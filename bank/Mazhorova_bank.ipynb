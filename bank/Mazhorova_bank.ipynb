{
 "cells": [
  {
   "cell_type": "markdown",
   "metadata": {},
   "source": [
    "# Отток клиентов"
   ]
  },
  {
   "cell_type": "markdown",
   "metadata": {},
   "source": [
    "[Введение](#beginning)\n",
    "\n",
    "1. [Подготовка данных](#preparing)\n",
    "\n",
    "\n",
    "2. [Исследование задачи](#research)\n",
    "\n",
    "\n",
    "3. [Борьба с дисбалансом](#modelling)\n",
    "\n",
    "\n",
    "4. [Тестирование модели](#testing)\n",
    "\n",
    "\n",
    "5. [Общий вывод](#finalizing)  "
   ]
  },
  {
   "cell_type": "markdown",
   "metadata": {},
   "source": [
    "<a id=\"beginning\"></a>\n",
    "# Введение"
   ]
  },
  {
   "cell_type": "markdown",
   "metadata": {},
   "source": [
    "В ходе данной работы будут проанализированы данные об оттоке клиентов банка. И построена модель для задач классификации, которая сможет прогнозировать, уйдёт клиент в ближайшее время из банка или нет."
   ]
  },
  {
   "cell_type": "markdown",
   "metadata": {},
   "source": [
    "<a id=\"preparing\"></a>\n",
    "# 1. Подготовка данных"
   ]
  },
  {
   "cell_type": "code",
   "execution_count": 1,
   "metadata": {},
   "outputs": [],
   "source": [
    "import pandas as pd\n",
    "import numpy as np\n",
    "import matplotlib.pyplot as plt\n",
    "from sklearn.tree import DecisionTreeClassifier\n",
    "from sklearn.metrics import accuracy_score\n",
    "from sklearn.ensemble import RandomForestClassifier\n",
    "from sklearn.model_selection import train_test_split\n",
    "from sklearn.ensemble import RandomForestClassifier\n",
    "from sklearn.linear_model import LogisticRegression\n",
    "from sklearn.preprocessing import StandardScaler\n",
    "from sklearn.metrics import confusion_matrix\n",
    "from sklearn.metrics import f1_score\n",
    "from sklearn.utils import shuffle\n",
    "from sklearn.metrics import precision_score, recall_score\n",
    "from sklearn.metrics import roc_auc_score\n",
    "from sklearn.metrics import roc_curve\n",
    "pd.options.mode.chained_assignment = None\n",
    "pd.options.display.max_columns = None\n",
    "pd.set_option('display.float_format', lambda x: '%.3f' % x)"
   ]
  },
  {
   "cell_type": "code",
   "execution_count": 2,
   "metadata": {},
   "outputs": [],
   "source": [
    "total_clients = 10000"
   ]
  },
  {
   "cell_type": "code",
   "execution_count": 3,
   "metadata": {},
   "outputs": [],
   "source": [
    "data = pd.read_csv('/datasets/Churn.csv')"
   ]
  },
  {
   "cell_type": "code",
   "execution_count": 4,
   "metadata": {},
   "outputs": [
    {
     "data": {
      "text/html": [
       "<div>\n",
       "<style scoped>\n",
       "    .dataframe tbody tr th:only-of-type {\n",
       "        vertical-align: middle;\n",
       "    }\n",
       "\n",
       "    .dataframe tbody tr th {\n",
       "        vertical-align: top;\n",
       "    }\n",
       "\n",
       "    .dataframe thead th {\n",
       "        text-align: right;\n",
       "    }\n",
       "</style>\n",
       "<table border=\"1\" class=\"dataframe\">\n",
       "  <thead>\n",
       "    <tr style=\"text-align: right;\">\n",
       "      <th></th>\n",
       "      <th>RowNumber</th>\n",
       "      <th>CustomerId</th>\n",
       "      <th>Surname</th>\n",
       "      <th>CreditScore</th>\n",
       "      <th>Geography</th>\n",
       "      <th>Gender</th>\n",
       "      <th>Age</th>\n",
       "      <th>Tenure</th>\n",
       "      <th>Balance</th>\n",
       "      <th>NumOfProducts</th>\n",
       "      <th>HasCrCard</th>\n",
       "      <th>IsActiveMember</th>\n",
       "      <th>EstimatedSalary</th>\n",
       "      <th>Exited</th>\n",
       "    </tr>\n",
       "  </thead>\n",
       "  <tbody>\n",
       "    <tr>\n",
       "      <td>0</td>\n",
       "      <td>1</td>\n",
       "      <td>15634602</td>\n",
       "      <td>Hargrave</td>\n",
       "      <td>619</td>\n",
       "      <td>France</td>\n",
       "      <td>Female</td>\n",
       "      <td>42</td>\n",
       "      <td>2.000</td>\n",
       "      <td>0.000</td>\n",
       "      <td>1</td>\n",
       "      <td>1</td>\n",
       "      <td>1</td>\n",
       "      <td>101348.880</td>\n",
       "      <td>1</td>\n",
       "    </tr>\n",
       "    <tr>\n",
       "      <td>1</td>\n",
       "      <td>2</td>\n",
       "      <td>15647311</td>\n",
       "      <td>Hill</td>\n",
       "      <td>608</td>\n",
       "      <td>Spain</td>\n",
       "      <td>Female</td>\n",
       "      <td>41</td>\n",
       "      <td>1.000</td>\n",
       "      <td>83807.860</td>\n",
       "      <td>1</td>\n",
       "      <td>0</td>\n",
       "      <td>1</td>\n",
       "      <td>112542.580</td>\n",
       "      <td>0</td>\n",
       "    </tr>\n",
       "    <tr>\n",
       "      <td>2</td>\n",
       "      <td>3</td>\n",
       "      <td>15619304</td>\n",
       "      <td>Onio</td>\n",
       "      <td>502</td>\n",
       "      <td>France</td>\n",
       "      <td>Female</td>\n",
       "      <td>42</td>\n",
       "      <td>8.000</td>\n",
       "      <td>159660.800</td>\n",
       "      <td>3</td>\n",
       "      <td>1</td>\n",
       "      <td>0</td>\n",
       "      <td>113931.570</td>\n",
       "      <td>1</td>\n",
       "    </tr>\n",
       "    <tr>\n",
       "      <td>3</td>\n",
       "      <td>4</td>\n",
       "      <td>15701354</td>\n",
       "      <td>Boni</td>\n",
       "      <td>699</td>\n",
       "      <td>France</td>\n",
       "      <td>Female</td>\n",
       "      <td>39</td>\n",
       "      <td>1.000</td>\n",
       "      <td>0.000</td>\n",
       "      <td>2</td>\n",
       "      <td>0</td>\n",
       "      <td>0</td>\n",
       "      <td>93826.630</td>\n",
       "      <td>0</td>\n",
       "    </tr>\n",
       "    <tr>\n",
       "      <td>4</td>\n",
       "      <td>5</td>\n",
       "      <td>15737888</td>\n",
       "      <td>Mitchell</td>\n",
       "      <td>850</td>\n",
       "      <td>Spain</td>\n",
       "      <td>Female</td>\n",
       "      <td>43</td>\n",
       "      <td>2.000</td>\n",
       "      <td>125510.820</td>\n",
       "      <td>1</td>\n",
       "      <td>1</td>\n",
       "      <td>1</td>\n",
       "      <td>79084.100</td>\n",
       "      <td>0</td>\n",
       "    </tr>\n",
       "  </tbody>\n",
       "</table>\n",
       "</div>"
      ],
      "text/plain": [
       "   RowNumber  CustomerId   Surname  CreditScore Geography  Gender  Age  \\\n",
       "0          1    15634602  Hargrave          619    France  Female   42   \n",
       "1          2    15647311      Hill          608     Spain  Female   41   \n",
       "2          3    15619304      Onio          502    France  Female   42   \n",
       "3          4    15701354      Boni          699    France  Female   39   \n",
       "4          5    15737888  Mitchell          850     Spain  Female   43   \n",
       "\n",
       "   Tenure    Balance  NumOfProducts  HasCrCard  IsActiveMember  \\\n",
       "0   2.000      0.000              1          1               1   \n",
       "1   1.000  83807.860              1          0               1   \n",
       "2   8.000 159660.800              3          1               0   \n",
       "3   1.000      0.000              2          0               0   \n",
       "4   2.000 125510.820              1          1               1   \n",
       "\n",
       "   EstimatedSalary  Exited  \n",
       "0       101348.880       1  \n",
       "1       112542.580       0  \n",
       "2       113931.570       1  \n",
       "3        93826.630       0  \n",
       "4        79084.100       0  "
      ]
     },
     "execution_count": 4,
     "metadata": {},
     "output_type": "execute_result"
    }
   ],
   "source": [
    "data.head()"
   ]
  },
  {
   "cell_type": "code",
   "execution_count": 5,
   "metadata": {},
   "outputs": [
    {
     "name": "stdout",
     "output_type": "stream",
     "text": [
      "<class 'pandas.core.frame.DataFrame'>\n",
      "RangeIndex: 10000 entries, 0 to 9999\n",
      "Data columns (total 14 columns):\n",
      "RowNumber          10000 non-null int64\n",
      "CustomerId         10000 non-null int64\n",
      "Surname            10000 non-null object\n",
      "CreditScore        10000 non-null int64\n",
      "Geography          10000 non-null object\n",
      "Gender             10000 non-null object\n",
      "Age                10000 non-null int64\n",
      "Tenure             9091 non-null float64\n",
      "Balance            10000 non-null float64\n",
      "NumOfProducts      10000 non-null int64\n",
      "HasCrCard          10000 non-null int64\n",
      "IsActiveMember     10000 non-null int64\n",
      "EstimatedSalary    10000 non-null float64\n",
      "Exited             10000 non-null int64\n",
      "dtypes: float64(3), int64(8), object(3)\n",
      "memory usage: 1.1+ MB\n"
     ]
    }
   ],
   "source": [
    "data.info()"
   ]
  },
  {
   "cell_type": "code",
   "execution_count": 6,
   "metadata": {},
   "outputs": [
    {
     "data": {
      "text/html": [
       "<div>\n",
       "<style scoped>\n",
       "    .dataframe tbody tr th:only-of-type {\n",
       "        vertical-align: middle;\n",
       "    }\n",
       "\n",
       "    .dataframe tbody tr th {\n",
       "        vertical-align: top;\n",
       "    }\n",
       "\n",
       "    .dataframe thead th {\n",
       "        text-align: right;\n",
       "    }\n",
       "</style>\n",
       "<table border=\"1\" class=\"dataframe\">\n",
       "  <thead>\n",
       "    <tr style=\"text-align: right;\">\n",
       "      <th></th>\n",
       "      <th>RowNumber</th>\n",
       "      <th>CustomerId</th>\n",
       "      <th>CreditScore</th>\n",
       "      <th>Age</th>\n",
       "      <th>Tenure</th>\n",
       "      <th>Balance</th>\n",
       "      <th>NumOfProducts</th>\n",
       "      <th>HasCrCard</th>\n",
       "      <th>IsActiveMember</th>\n",
       "      <th>EstimatedSalary</th>\n",
       "      <th>Exited</th>\n",
       "    </tr>\n",
       "  </thead>\n",
       "  <tbody>\n",
       "    <tr>\n",
       "      <td>count</td>\n",
       "      <td>10000.000</td>\n",
       "      <td>10000.000</td>\n",
       "      <td>10000.000</td>\n",
       "      <td>10000.000</td>\n",
       "      <td>9091.000</td>\n",
       "      <td>10000.000</td>\n",
       "      <td>10000.000</td>\n",
       "      <td>10000.000</td>\n",
       "      <td>10000.000</td>\n",
       "      <td>10000.000</td>\n",
       "      <td>10000.000</td>\n",
       "    </tr>\n",
       "    <tr>\n",
       "      <td>mean</td>\n",
       "      <td>5000.500</td>\n",
       "      <td>15690940.569</td>\n",
       "      <td>650.529</td>\n",
       "      <td>38.922</td>\n",
       "      <td>4.998</td>\n",
       "      <td>76485.889</td>\n",
       "      <td>1.530</td>\n",
       "      <td>0.706</td>\n",
       "      <td>0.515</td>\n",
       "      <td>100090.240</td>\n",
       "      <td>0.204</td>\n",
       "    </tr>\n",
       "    <tr>\n",
       "      <td>std</td>\n",
       "      <td>2886.896</td>\n",
       "      <td>71936.186</td>\n",
       "      <td>96.653</td>\n",
       "      <td>10.488</td>\n",
       "      <td>2.895</td>\n",
       "      <td>62397.405</td>\n",
       "      <td>0.582</td>\n",
       "      <td>0.456</td>\n",
       "      <td>0.500</td>\n",
       "      <td>57510.493</td>\n",
       "      <td>0.403</td>\n",
       "    </tr>\n",
       "    <tr>\n",
       "      <td>min</td>\n",
       "      <td>1.000</td>\n",
       "      <td>15565701.000</td>\n",
       "      <td>350.000</td>\n",
       "      <td>18.000</td>\n",
       "      <td>0.000</td>\n",
       "      <td>0.000</td>\n",
       "      <td>1.000</td>\n",
       "      <td>0.000</td>\n",
       "      <td>0.000</td>\n",
       "      <td>11.580</td>\n",
       "      <td>0.000</td>\n",
       "    </tr>\n",
       "    <tr>\n",
       "      <td>25%</td>\n",
       "      <td>2500.750</td>\n",
       "      <td>15628528.250</td>\n",
       "      <td>584.000</td>\n",
       "      <td>32.000</td>\n",
       "      <td>2.000</td>\n",
       "      <td>0.000</td>\n",
       "      <td>1.000</td>\n",
       "      <td>0.000</td>\n",
       "      <td>0.000</td>\n",
       "      <td>51002.110</td>\n",
       "      <td>0.000</td>\n",
       "    </tr>\n",
       "    <tr>\n",
       "      <td>50%</td>\n",
       "      <td>5000.500</td>\n",
       "      <td>15690738.000</td>\n",
       "      <td>652.000</td>\n",
       "      <td>37.000</td>\n",
       "      <td>5.000</td>\n",
       "      <td>97198.540</td>\n",
       "      <td>1.000</td>\n",
       "      <td>1.000</td>\n",
       "      <td>1.000</td>\n",
       "      <td>100193.915</td>\n",
       "      <td>0.000</td>\n",
       "    </tr>\n",
       "    <tr>\n",
       "      <td>75%</td>\n",
       "      <td>7500.250</td>\n",
       "      <td>15753233.750</td>\n",
       "      <td>718.000</td>\n",
       "      <td>44.000</td>\n",
       "      <td>7.000</td>\n",
       "      <td>127644.240</td>\n",
       "      <td>2.000</td>\n",
       "      <td>1.000</td>\n",
       "      <td>1.000</td>\n",
       "      <td>149388.247</td>\n",
       "      <td>0.000</td>\n",
       "    </tr>\n",
       "    <tr>\n",
       "      <td>max</td>\n",
       "      <td>10000.000</td>\n",
       "      <td>15815690.000</td>\n",
       "      <td>850.000</td>\n",
       "      <td>92.000</td>\n",
       "      <td>10.000</td>\n",
       "      <td>250898.090</td>\n",
       "      <td>4.000</td>\n",
       "      <td>1.000</td>\n",
       "      <td>1.000</td>\n",
       "      <td>199992.480</td>\n",
       "      <td>1.000</td>\n",
       "    </tr>\n",
       "  </tbody>\n",
       "</table>\n",
       "</div>"
      ],
      "text/plain": [
       "       RowNumber   CustomerId  CreditScore       Age   Tenure    Balance  \\\n",
       "count  10000.000    10000.000    10000.000 10000.000 9091.000  10000.000   \n",
       "mean    5000.500 15690940.569      650.529    38.922    4.998  76485.889   \n",
       "std     2886.896    71936.186       96.653    10.488    2.895  62397.405   \n",
       "min        1.000 15565701.000      350.000    18.000    0.000      0.000   \n",
       "25%     2500.750 15628528.250      584.000    32.000    2.000      0.000   \n",
       "50%     5000.500 15690738.000      652.000    37.000    5.000  97198.540   \n",
       "75%     7500.250 15753233.750      718.000    44.000    7.000 127644.240   \n",
       "max    10000.000 15815690.000      850.000    92.000   10.000 250898.090   \n",
       "\n",
       "       NumOfProducts  HasCrCard  IsActiveMember  EstimatedSalary    Exited  \n",
       "count      10000.000  10000.000       10000.000        10000.000 10000.000  \n",
       "mean           1.530      0.706           0.515       100090.240     0.204  \n",
       "std            0.582      0.456           0.500        57510.493     0.403  \n",
       "min            1.000      0.000           0.000           11.580     0.000  \n",
       "25%            1.000      0.000           0.000        51002.110     0.000  \n",
       "50%            1.000      1.000           1.000       100193.915     0.000  \n",
       "75%            2.000      1.000           1.000       149388.247     0.000  \n",
       "max            4.000      1.000           1.000       199992.480     1.000  "
      ]
     },
     "execution_count": 6,
     "metadata": {},
     "output_type": "execute_result"
    }
   ],
   "source": [
    "data.describe()"
   ]
  },
  {
   "cell_type": "markdown",
   "metadata": {},
   "source": [
    "Приведём названия столбцов к нижнему регистру."
   ]
  },
  {
   "cell_type": "code",
   "execution_count": 7,
   "metadata": {},
   "outputs": [],
   "source": [
    "data.columns = data.columns.str.lower()"
   ]
  },
  {
   "cell_type": "code",
   "execution_count": 8,
   "metadata": {},
   "outputs": [
    {
     "data": {
      "text/plain": [
       "Index(['rownumber', 'customerid', 'surname', 'creditscore', 'geography',\n",
       "       'gender', 'age', 'tenure', 'balance', 'numofproducts', 'hascrcard',\n",
       "       'isactivemember', 'estimatedsalary', 'exited'],\n",
       "      dtype='object')"
      ]
     },
     "execution_count": 8,
     "metadata": {},
     "output_type": "execute_result"
    }
   ],
   "source": [
    "data.columns"
   ]
  },
  {
   "cell_type": "markdown",
   "metadata": {},
   "source": [
    "Удалим столбцы с фамилией и идентификаторами клиентов, чтобы не путать модель при обучении."
   ]
  },
  {
   "cell_type": "code",
   "execution_count": 9,
   "metadata": {},
   "outputs": [],
   "source": [
    "del data['surname']\n",
    "del data['customerid']\n",
    "del data['rownumber']"
   ]
  },
  {
   "cell_type": "markdown",
   "metadata": {},
   "source": [
    "Пропуски есть только в столбце tenure - заполним их нулями, т.к. здесь пропуски означают, что у клиента нет объектов недвижимости."
   ]
  },
  {
   "cell_type": "code",
   "execution_count": 10,
   "metadata": {},
   "outputs": [],
   "source": [
    "data['tenure'] = data['tenure'].fillna(0)"
   ]
  },
  {
   "cell_type": "code",
   "execution_count": 11,
   "metadata": {},
   "outputs": [
    {
     "name": "stdout",
     "output_type": "stream",
     "text": [
      "<class 'pandas.core.frame.DataFrame'>\n",
      "RangeIndex: 10000 entries, 0 to 9999\n",
      "Data columns (total 11 columns):\n",
      "creditscore        10000 non-null int64\n",
      "geography          10000 non-null object\n",
      "gender             10000 non-null object\n",
      "age                10000 non-null int64\n",
      "tenure             10000 non-null float64\n",
      "balance            10000 non-null float64\n",
      "numofproducts      10000 non-null int64\n",
      "hascrcard          10000 non-null int64\n",
      "isactivemember     10000 non-null int64\n",
      "estimatedsalary    10000 non-null float64\n",
      "exited             10000 non-null int64\n",
      "dtypes: float64(3), int64(6), object(2)\n",
      "memory usage: 859.5+ KB\n"
     ]
    }
   ],
   "source": [
    "data.info()"
   ]
  },
  {
   "cell_type": "markdown",
   "metadata": {},
   "source": [
    "Создадим Dummy-переменные для столбцов geography, gender, tenure, numofproducts. Применим параметр drop_first=True, чтобы избежать dummy-ловушки."
   ]
  },
  {
   "cell_type": "code",
   "execution_count": 12,
   "metadata": {},
   "outputs": [
    {
     "data": {
      "text/html": [
       "<div>\n",
       "<style scoped>\n",
       "    .dataframe tbody tr th:only-of-type {\n",
       "        vertical-align: middle;\n",
       "    }\n",
       "\n",
       "    .dataframe tbody tr th {\n",
       "        vertical-align: top;\n",
       "    }\n",
       "\n",
       "    .dataframe thead th {\n",
       "        text-align: right;\n",
       "    }\n",
       "</style>\n",
       "<table border=\"1\" class=\"dataframe\">\n",
       "  <thead>\n",
       "    <tr style=\"text-align: right;\">\n",
       "      <th></th>\n",
       "      <th>creditscore</th>\n",
       "      <th>age</th>\n",
       "      <th>balance</th>\n",
       "      <th>hascrcard</th>\n",
       "      <th>isactivemember</th>\n",
       "      <th>estimatedsalary</th>\n",
       "      <th>exited</th>\n",
       "      <th>geography_Germany</th>\n",
       "      <th>geography_Spain</th>\n",
       "      <th>gender_Male</th>\n",
       "      <th>tenure_1.0</th>\n",
       "      <th>tenure_2.0</th>\n",
       "      <th>tenure_3.0</th>\n",
       "      <th>tenure_4.0</th>\n",
       "      <th>tenure_5.0</th>\n",
       "      <th>tenure_6.0</th>\n",
       "      <th>tenure_7.0</th>\n",
       "      <th>tenure_8.0</th>\n",
       "      <th>tenure_9.0</th>\n",
       "      <th>tenure_10.0</th>\n",
       "      <th>numofproducts_2</th>\n",
       "      <th>numofproducts_3</th>\n",
       "      <th>numofproducts_4</th>\n",
       "    </tr>\n",
       "  </thead>\n",
       "  <tbody>\n",
       "    <tr>\n",
       "      <td>0</td>\n",
       "      <td>619</td>\n",
       "      <td>42</td>\n",
       "      <td>0.000</td>\n",
       "      <td>1</td>\n",
       "      <td>1</td>\n",
       "      <td>101348.880</td>\n",
       "      <td>1</td>\n",
       "      <td>0</td>\n",
       "      <td>0</td>\n",
       "      <td>0</td>\n",
       "      <td>0</td>\n",
       "      <td>1</td>\n",
       "      <td>0</td>\n",
       "      <td>0</td>\n",
       "      <td>0</td>\n",
       "      <td>0</td>\n",
       "      <td>0</td>\n",
       "      <td>0</td>\n",
       "      <td>0</td>\n",
       "      <td>0</td>\n",
       "      <td>0</td>\n",
       "      <td>0</td>\n",
       "      <td>0</td>\n",
       "    </tr>\n",
       "    <tr>\n",
       "      <td>1</td>\n",
       "      <td>608</td>\n",
       "      <td>41</td>\n",
       "      <td>83807.860</td>\n",
       "      <td>0</td>\n",
       "      <td>1</td>\n",
       "      <td>112542.580</td>\n",
       "      <td>0</td>\n",
       "      <td>0</td>\n",
       "      <td>1</td>\n",
       "      <td>0</td>\n",
       "      <td>1</td>\n",
       "      <td>0</td>\n",
       "      <td>0</td>\n",
       "      <td>0</td>\n",
       "      <td>0</td>\n",
       "      <td>0</td>\n",
       "      <td>0</td>\n",
       "      <td>0</td>\n",
       "      <td>0</td>\n",
       "      <td>0</td>\n",
       "      <td>0</td>\n",
       "      <td>0</td>\n",
       "      <td>0</td>\n",
       "    </tr>\n",
       "    <tr>\n",
       "      <td>2</td>\n",
       "      <td>502</td>\n",
       "      <td>42</td>\n",
       "      <td>159660.800</td>\n",
       "      <td>1</td>\n",
       "      <td>0</td>\n",
       "      <td>113931.570</td>\n",
       "      <td>1</td>\n",
       "      <td>0</td>\n",
       "      <td>0</td>\n",
       "      <td>0</td>\n",
       "      <td>0</td>\n",
       "      <td>0</td>\n",
       "      <td>0</td>\n",
       "      <td>0</td>\n",
       "      <td>0</td>\n",
       "      <td>0</td>\n",
       "      <td>0</td>\n",
       "      <td>1</td>\n",
       "      <td>0</td>\n",
       "      <td>0</td>\n",
       "      <td>0</td>\n",
       "      <td>1</td>\n",
       "      <td>0</td>\n",
       "    </tr>\n",
       "    <tr>\n",
       "      <td>3</td>\n",
       "      <td>699</td>\n",
       "      <td>39</td>\n",
       "      <td>0.000</td>\n",
       "      <td>0</td>\n",
       "      <td>0</td>\n",
       "      <td>93826.630</td>\n",
       "      <td>0</td>\n",
       "      <td>0</td>\n",
       "      <td>0</td>\n",
       "      <td>0</td>\n",
       "      <td>1</td>\n",
       "      <td>0</td>\n",
       "      <td>0</td>\n",
       "      <td>0</td>\n",
       "      <td>0</td>\n",
       "      <td>0</td>\n",
       "      <td>0</td>\n",
       "      <td>0</td>\n",
       "      <td>0</td>\n",
       "      <td>0</td>\n",
       "      <td>1</td>\n",
       "      <td>0</td>\n",
       "      <td>0</td>\n",
       "    </tr>\n",
       "    <tr>\n",
       "      <td>4</td>\n",
       "      <td>850</td>\n",
       "      <td>43</td>\n",
       "      <td>125510.820</td>\n",
       "      <td>1</td>\n",
       "      <td>1</td>\n",
       "      <td>79084.100</td>\n",
       "      <td>0</td>\n",
       "      <td>0</td>\n",
       "      <td>1</td>\n",
       "      <td>0</td>\n",
       "      <td>0</td>\n",
       "      <td>1</td>\n",
       "      <td>0</td>\n",
       "      <td>0</td>\n",
       "      <td>0</td>\n",
       "      <td>0</td>\n",
       "      <td>0</td>\n",
       "      <td>0</td>\n",
       "      <td>0</td>\n",
       "      <td>0</td>\n",
       "      <td>0</td>\n",
       "      <td>0</td>\n",
       "      <td>0</td>\n",
       "    </tr>\n",
       "  </tbody>\n",
       "</table>\n",
       "</div>"
      ],
      "text/plain": [
       "   creditscore  age    balance  hascrcard  isactivemember  estimatedsalary  \\\n",
       "0          619   42      0.000          1               1       101348.880   \n",
       "1          608   41  83807.860          0               1       112542.580   \n",
       "2          502   42 159660.800          1               0       113931.570   \n",
       "3          699   39      0.000          0               0        93826.630   \n",
       "4          850   43 125510.820          1               1        79084.100   \n",
       "\n",
       "   exited  geography_Germany  geography_Spain  gender_Male  tenure_1.0  \\\n",
       "0       1                  0                0            0           0   \n",
       "1       0                  0                1            0           1   \n",
       "2       1                  0                0            0           0   \n",
       "3       0                  0                0            0           1   \n",
       "4       0                  0                1            0           0   \n",
       "\n",
       "   tenure_2.0  tenure_3.0  tenure_4.0  tenure_5.0  tenure_6.0  tenure_7.0  \\\n",
       "0           1           0           0           0           0           0   \n",
       "1           0           0           0           0           0           0   \n",
       "2           0           0           0           0           0           0   \n",
       "3           0           0           0           0           0           0   \n",
       "4           1           0           0           0           0           0   \n",
       "\n",
       "   tenure_8.0  tenure_9.0  tenure_10.0  numofproducts_2  numofproducts_3  \\\n",
       "0           0           0            0                0                0   \n",
       "1           0           0            0                0                0   \n",
       "2           1           0            0                0                1   \n",
       "3           0           0            0                1                0   \n",
       "4           0           0            0                0                0   \n",
       "\n",
       "   numofproducts_4  \n",
       "0                0  \n",
       "1                0  \n",
       "2                0  \n",
       "3                0  \n",
       "4                0  "
      ]
     },
     "execution_count": 12,
     "metadata": {},
     "output_type": "execute_result"
    }
   ],
   "source": [
    "data_ohe = pd.get_dummies(data=data, columns=['geography', 'gender', 'tenure', 'numofproducts'], drop_first=True)\n",
    "data_ohe.head()"
   ]
  },
  {
   "cell_type": "markdown",
   "metadata": {},
   "source": [
    "Посмотрим на сбалансированность целевого признака"
   ]
  },
  {
   "cell_type": "code",
   "execution_count": 13,
   "metadata": {},
   "outputs": [
    {
     "data": {
      "text/html": [
       "<div>\n",
       "<style scoped>\n",
       "    .dataframe tbody tr th:only-of-type {\n",
       "        vertical-align: middle;\n",
       "    }\n",
       "\n",
       "    .dataframe tbody tr th {\n",
       "        vertical-align: top;\n",
       "    }\n",
       "\n",
       "    .dataframe thead th {\n",
       "        text-align: right;\n",
       "    }\n",
       "</style>\n",
       "<table border=\"1\" class=\"dataframe\">\n",
       "  <thead>\n",
       "    <tr style=\"text-align: right;\">\n",
       "      <th></th>\n",
       "      <th>count</th>\n",
       "      <th>percent</th>\n",
       "    </tr>\n",
       "    <tr>\n",
       "      <th>exited</th>\n",
       "      <th></th>\n",
       "      <th></th>\n",
       "    </tr>\n",
       "  </thead>\n",
       "  <tbody>\n",
       "    <tr>\n",
       "      <td>0</td>\n",
       "      <td>7963</td>\n",
       "      <td>0.796</td>\n",
       "    </tr>\n",
       "    <tr>\n",
       "      <td>1</td>\n",
       "      <td>2037</td>\n",
       "      <td>0.204</td>\n",
       "    </tr>\n",
       "  </tbody>\n",
       "</table>\n",
       "</div>"
      ],
      "text/plain": [
       "        count  percent\n",
       "exited                \n",
       "0        7963    0.796\n",
       "1        2037    0.204"
      ]
     },
     "metadata": {},
     "output_type": "display_data"
    }
   ],
   "source": [
    "data_ohe_grouped = data_ohe.groupby(['exited']).agg({'estimatedsalary': ['count']})\n",
    "data_ohe_grouped.columns = ['count']\n",
    "data_ohe_grouped['percent'] = data_ohe_grouped['count']/total_clients\n",
    "display(data_ohe_grouped)"
   ]
  },
  {
   "cell_type": "markdown",
   "metadata": {},
   "source": [
    "Около 80% выборки - существующие клиенты. И лишь 20% - ушедшие. Выборка несбалансированна. Метрику accuracy для оценки создаваемых моделей в данном случае будет применять некорректно. Остановимся на сравнении метрик F1 и AUC-ROC. В данной задаче для нас будет важнее метрика F1, т.к. нам очень важно удержать существующих клиентов, т.е. предсказать факт ухода."
   ]
  },
  {
   "cell_type": "markdown",
   "metadata": {},
   "source": [
    "Разделим данные на обучающую (train), валидационную (valid) и тестовую (test) выборки в соотношении 60% - 20% - 20%. И извлечём признаки для обучения: целевой - target, остальные - features"
   ]
  },
  {
   "cell_type": "code",
   "execution_count": 14,
   "metadata": {},
   "outputs": [],
   "source": [
    "data_ohe_middle, data_ohe_test = train_test_split(data_ohe, test_size=0.2, random_state=12345)\n",
    "data_ohe_train, data_ohe_valid = train_test_split(data_ohe_middle, test_size=0.25, random_state=12345)"
   ]
  },
  {
   "cell_type": "code",
   "execution_count": 15,
   "metadata": {},
   "outputs": [],
   "source": [
    "features_train = data_ohe_train.drop(['exited'], axis=1)\n",
    "target_train = data_ohe_train['exited']\n",
    "features_valid = data_ohe_valid.drop(['exited'], axis=1)\n",
    "target_valid = data_ohe_valid['exited'] \n",
    "features_test = data_ohe_test.drop(['exited'], axis=1)\n",
    "target_test = data_ohe_test['exited'] "
   ]
  },
  {
   "cell_type": "code",
   "execution_count": 16,
   "metadata": {},
   "outputs": [
    {
     "name": "stdout",
     "output_type": "stream",
     "text": [
      "(6000, 23)\n",
      "(2000, 23)\n",
      "(2000, 23)\n"
     ]
    }
   ],
   "source": [
    "print(data_ohe_train.shape)\n",
    "print(data_ohe_valid.shape)\n",
    "print(data_ohe_test.shape)\n",
    "data_ohe_train_total = 6000\n",
    "data_ohe_valid_total = 2000\n",
    "data_ohe_test_total = 2000"
   ]
  },
  {
   "cell_type": "markdown",
   "metadata": {},
   "source": [
    "Масштабируем численные переменные"
   ]
  },
  {
   "cell_type": "code",
   "execution_count": 17,
   "metadata": {},
   "outputs": [],
   "source": [
    "numeric = ['creditscore', 'age', 'balance', 'estimatedsalary']"
   ]
  },
  {
   "cell_type": "code",
   "execution_count": 18,
   "metadata": {},
   "outputs": [],
   "source": [
    "scaler = StandardScaler()\n",
    "scaler.fit(features_train[numeric])\n",
    "features_train[numeric] = scaler.transform(features_train[numeric])\n",
    "features_valid[numeric] = scaler.transform(features_valid[numeric])\n",
    "features_test[numeric] = scaler.transform(features_test[numeric])"
   ]
  },
  {
   "cell_type": "code",
   "execution_count": 19,
   "metadata": {},
   "outputs": [
    {
     "data": {
      "text/html": [
       "<div>\n",
       "<style scoped>\n",
       "    .dataframe tbody tr th:only-of-type {\n",
       "        vertical-align: middle;\n",
       "    }\n",
       "\n",
       "    .dataframe tbody tr th {\n",
       "        vertical-align: top;\n",
       "    }\n",
       "\n",
       "    .dataframe thead th {\n",
       "        text-align: right;\n",
       "    }\n",
       "</style>\n",
       "<table border=\"1\" class=\"dataframe\">\n",
       "  <thead>\n",
       "    <tr style=\"text-align: right;\">\n",
       "      <th></th>\n",
       "      <th>creditscore</th>\n",
       "      <th>age</th>\n",
       "      <th>balance</th>\n",
       "      <th>hascrcard</th>\n",
       "      <th>isactivemember</th>\n",
       "      <th>estimatedsalary</th>\n",
       "      <th>geography_Germany</th>\n",
       "      <th>geography_Spain</th>\n",
       "      <th>gender_Male</th>\n",
       "      <th>tenure_1.0</th>\n",
       "      <th>tenure_2.0</th>\n",
       "      <th>tenure_3.0</th>\n",
       "      <th>tenure_4.0</th>\n",
       "      <th>tenure_5.0</th>\n",
       "      <th>tenure_6.0</th>\n",
       "      <th>tenure_7.0</th>\n",
       "      <th>tenure_8.0</th>\n",
       "      <th>tenure_9.0</th>\n",
       "      <th>tenure_10.0</th>\n",
       "      <th>numofproducts_2</th>\n",
       "      <th>numofproducts_3</th>\n",
       "      <th>numofproducts_4</th>\n",
       "    </tr>\n",
       "  </thead>\n",
       "  <tbody>\n",
       "    <tr>\n",
       "      <td>7867</td>\n",
       "      <td>-0.124</td>\n",
       "      <td>0.685</td>\n",
       "      <td>-1.232</td>\n",
       "      <td>1</td>\n",
       "      <td>1</td>\n",
       "      <td>0.980</td>\n",
       "      <td>0</td>\n",
       "      <td>1</td>\n",
       "      <td>0</td>\n",
       "      <td>0</td>\n",
       "      <td>0</td>\n",
       "      <td>1</td>\n",
       "      <td>0</td>\n",
       "      <td>0</td>\n",
       "      <td>0</td>\n",
       "      <td>0</td>\n",
       "      <td>0</td>\n",
       "      <td>0</td>\n",
       "      <td>0</td>\n",
       "      <td>0</td>\n",
       "      <td>0</td>\n",
       "      <td>0</td>\n",
       "    </tr>\n",
       "    <tr>\n",
       "      <td>1402</td>\n",
       "      <td>1.083</td>\n",
       "      <td>-0.937</td>\n",
       "      <td>0.859</td>\n",
       "      <td>1</td>\n",
       "      <td>0</td>\n",
       "      <td>-0.390</td>\n",
       "      <td>0</td>\n",
       "      <td>0</td>\n",
       "      <td>1</td>\n",
       "      <td>0</td>\n",
       "      <td>0</td>\n",
       "      <td>0</td>\n",
       "      <td>0</td>\n",
       "      <td>0</td>\n",
       "      <td>0</td>\n",
       "      <td>0</td>\n",
       "      <td>1</td>\n",
       "      <td>0</td>\n",
       "      <td>0</td>\n",
       "      <td>0</td>\n",
       "      <td>0</td>\n",
       "      <td>0</td>\n",
       "    </tr>\n",
       "    <tr>\n",
       "      <td>8606</td>\n",
       "      <td>1.599</td>\n",
       "      <td>0.304</td>\n",
       "      <td>-1.232</td>\n",
       "      <td>1</td>\n",
       "      <td>1</td>\n",
       "      <td>-0.435</td>\n",
       "      <td>0</td>\n",
       "      <td>1</td>\n",
       "      <td>1</td>\n",
       "      <td>0</td>\n",
       "      <td>0</td>\n",
       "      <td>0</td>\n",
       "      <td>0</td>\n",
       "      <td>1</td>\n",
       "      <td>0</td>\n",
       "      <td>0</td>\n",
       "      <td>0</td>\n",
       "      <td>0</td>\n",
       "      <td>0</td>\n",
       "      <td>1</td>\n",
       "      <td>0</td>\n",
       "      <td>0</td>\n",
       "    </tr>\n",
       "    <tr>\n",
       "      <td>8885</td>\n",
       "      <td>0.165</td>\n",
       "      <td>0.590</td>\n",
       "      <td>0.412</td>\n",
       "      <td>1</td>\n",
       "      <td>1</td>\n",
       "      <td>1.017</td>\n",
       "      <td>0</td>\n",
       "      <td>1</td>\n",
       "      <td>1</td>\n",
       "      <td>0</td>\n",
       "      <td>0</td>\n",
       "      <td>0</td>\n",
       "      <td>1</td>\n",
       "      <td>0</td>\n",
       "      <td>0</td>\n",
       "      <td>0</td>\n",
       "      <td>0</td>\n",
       "      <td>0</td>\n",
       "      <td>0</td>\n",
       "      <td>1</td>\n",
       "      <td>0</td>\n",
       "      <td>0</td>\n",
       "    </tr>\n",
       "    <tr>\n",
       "      <td>6494</td>\n",
       "      <td>0.485</td>\n",
       "      <td>-1.032</td>\n",
       "      <td>-1.232</td>\n",
       "      <td>1</td>\n",
       "      <td>1</td>\n",
       "      <td>-1.344</td>\n",
       "      <td>0</td>\n",
       "      <td>0</td>\n",
       "      <td>1</td>\n",
       "      <td>0</td>\n",
       "      <td>0</td>\n",
       "      <td>0</td>\n",
       "      <td>0</td>\n",
       "      <td>0</td>\n",
       "      <td>0</td>\n",
       "      <td>1</td>\n",
       "      <td>0</td>\n",
       "      <td>0</td>\n",
       "      <td>0</td>\n",
       "      <td>1</td>\n",
       "      <td>0</td>\n",
       "      <td>0</td>\n",
       "    </tr>\n",
       "  </tbody>\n",
       "</table>\n",
       "</div>"
      ],
      "text/plain": [
       "      creditscore    age  balance  hascrcard  isactivemember  estimatedsalary  \\\n",
       "7867       -0.124  0.685   -1.232          1               1            0.980   \n",
       "1402        1.083 -0.937    0.859          1               0           -0.390   \n",
       "8606        1.599  0.304   -1.232          1               1           -0.435   \n",
       "8885        0.165  0.590    0.412          1               1            1.017   \n",
       "6494        0.485 -1.032   -1.232          1               1           -1.344   \n",
       "\n",
       "      geography_Germany  geography_Spain  gender_Male  tenure_1.0  tenure_2.0  \\\n",
       "7867                  0                1            0           0           0   \n",
       "1402                  0                0            1           0           0   \n",
       "8606                  0                1            1           0           0   \n",
       "8885                  0                1            1           0           0   \n",
       "6494                  0                0            1           0           0   \n",
       "\n",
       "      tenure_3.0  tenure_4.0  tenure_5.0  tenure_6.0  tenure_7.0  tenure_8.0  \\\n",
       "7867           1           0           0           0           0           0   \n",
       "1402           0           0           0           0           0           1   \n",
       "8606           0           0           1           0           0           0   \n",
       "8885           0           1           0           0           0           0   \n",
       "6494           0           0           0           0           1           0   \n",
       "\n",
       "      tenure_9.0  tenure_10.0  numofproducts_2  numofproducts_3  \\\n",
       "7867           0            0                0                0   \n",
       "1402           0            0                0                0   \n",
       "8606           0            0                1                0   \n",
       "8885           0            0                1                0   \n",
       "6494           0            0                1                0   \n",
       "\n",
       "      numofproducts_4  \n",
       "7867                0  \n",
       "1402                0  \n",
       "8606                0  \n",
       "8885                0  \n",
       "6494                0  "
      ]
     },
     "metadata": {},
     "output_type": "display_data"
    }
   ],
   "source": [
    "display(features_test.head())"
   ]
  },
  {
   "cell_type": "markdown",
   "metadata": {},
   "source": [
    "***Вывод***\n",
    "\n",
    "Данные были подготовлены к обучению: отредактированы названия столбцов, удалены ненужные для моделирования столбцы, заполнены пропуски, созданы dummy-переменные, численные признаки масштабированы, затем данные были разделены на обучающую, валидационную и тестовую выборки. "
   ]
  },
  {
   "cell_type": "markdown",
   "metadata": {},
   "source": [
    "<a id=\"research\"></a>\n",
    "# 2. Исследование задачи"
   ]
  },
  {
   "cell_type": "markdown",
   "metadata": {},
   "source": [
    "Проверим, сохранились ли в созданных обучающей, валидационноц и тестовой выборках изначальные пропорции классов."
   ]
  },
  {
   "cell_type": "code",
   "execution_count": 20,
   "metadata": {},
   "outputs": [
    {
     "data": {
      "text/plain": [
       "0   0.797\n",
       "1   0.203\n",
       "Name: exited, dtype: float64"
      ]
     },
     "metadata": {},
     "output_type": "display_data"
    },
    {
     "data": {
      "text/plain": [
       "0   0.804\n",
       "1   0.196\n",
       "Name: exited, dtype: float64"
      ]
     },
     "metadata": {},
     "output_type": "display_data"
    },
    {
     "data": {
      "text/plain": [
       "0   0.786\n",
       "1   0.213\n",
       "Name: exited, dtype: float64"
      ]
     },
     "metadata": {},
     "output_type": "display_data"
    }
   ],
   "source": [
    "display(target_train.value_counts(normalize=True))\n",
    "display(target_valid.value_counts(normalize=True))\n",
    "display(target_test.value_counts(normalize=True))"
   ]
  },
  {
   "cell_type": "markdown",
   "metadata": {},
   "source": [
    "Обучим модель без учёта дисбаланса классов:"
   ]
  },
  {
   "cell_type": "code",
   "execution_count": 21,
   "metadata": {},
   "outputs": [
    {
     "data": {
      "text/plain": [
       "0.7885"
      ]
     },
     "metadata": {},
     "output_type": "display_data"
    }
   ],
   "source": [
    "model_before_balance = DecisionTreeClassifier(random_state=12345)\n",
    "\n",
    "model_before_balance.fit(features_train, target_train)\n",
    "predicted_valid_before_balance = model_before_balance.predict(features_valid)\n",
    "accuracy_valid_before_balance = accuracy_score(target_valid, predicted_valid_before_balance) \n",
    "display(accuracy_valid_before_balance)\n",
    "\n"
   ]
  },
  {
   "cell_type": "markdown",
   "metadata": {},
   "source": [
    "Проверку на адекватность модель не прошла, accuracy меньше изначальной доли нулевого класса."
   ]
  },
  {
   "cell_type": "code",
   "execution_count": 22,
   "metadata": {},
   "outputs": [
    {
     "name": "stdout",
     "output_type": "stream",
     "text": [
      "[[1387  222]\n",
      " [ 201  190]]\n"
     ]
    }
   ],
   "source": [
    "print(confusion_matrix(target_valid, predicted_valid_before_balance))"
   ]
  },
  {
   "cell_type": "code",
   "execution_count": 23,
   "metadata": {},
   "outputs": [
    {
     "name": "stdout",
     "output_type": "stream",
     "text": [
      "F1: 0.47322540473225405\n"
     ]
    }
   ],
   "source": [
    "print(\"F1:\", f1_score(target_valid, predicted_valid_before_balance))"
   ]
  },
  {
   "cell_type": "code",
   "execution_count": 24,
   "metadata": {},
   "outputs": [
    {
     "name": "stdout",
     "output_type": "stream",
     "text": [
      "AUC-ROC: 0.6739798035029938\n"
     ]
    }
   ],
   "source": [
    "probabilities_valid_before_balance = model_before_balance.predict_proba(features_valid)\n",
    "probabilities_one_valid_before_balance = probabilities_valid_before_balance[:, 1]\n",
    "\n",
    "print(\"AUC-ROC:\", roc_auc_score(target_valid, probabilities_one_valid_before_balance))"
   ]
  },
  {
   "cell_type": "markdown",
   "metadata": {},
   "source": [
    "***Вывод***\n",
    "\n",
    "Около 80% выборки - существующие клиенты. И лишь 20% - ушедшие. Выборка несбалансированна. Метрику accuracy для оценки создаваемых моделей в данном случае будет применять некорректно. Остановимся на сравнении метрик F1 и AUC-ROC. В данной задаче для нас будет важнее метрика F1, т.к. нам очень важно удержать существующих клиентов, т.е. предсказать факт ухода.\n",
    "Созданная без учёта дисбаланса классов модель проверку на адекватность не прошла. Будем бороться с дисбалансом."
   ]
  },
  {
   "cell_type": "markdown",
   "metadata": {},
   "source": [
    "<a id=\"modelling\"></a>\n",
    "# 3. Борьба с дисбалансом"
   ]
  },
  {
   "cell_type": "markdown",
   "metadata": {},
   "source": [
    "# 3.1.  Взвешивание классов"
   ]
  },
  {
   "cell_type": "markdown",
   "metadata": {},
   "source": [
    "Придадим объектам редкого класса больший вес, задав параметр class_weight='balanced' трём моделям: решающего дерева, случайного леса и логистической регрессии с разными гиперпараметрами."
   ]
  },
  {
   "cell_type": "code",
   "execution_count": 25,
   "metadata": {},
   "outputs": [
    {
     "name": "stdout",
     "output_type": "stream",
     "text": [
      "F1 для модели логистической регрессии: 0.5426653883029722\n",
      "AUC-ROC для модели логистической регрессии: 0.8323751150418285\n"
     ]
    }
   ],
   "source": [
    "model_weighted = LogisticRegression(random_state=12345, solver='liblinear', class_weight='balanced')\n",
    "model_weighted.fit(features_train, target_train)\n",
    "predicted_valid_weighted = model_weighted.predict(features_valid)\n",
    "print(\"F1 для модели логистической регрессии:\", f1_score(target_valid, predicted_valid_weighted))\n",
    "probabilities_valid_weighted = model_weighted.predict_proba(features_valid)\n",
    "probabilities_one_valid_weighted = probabilities_valid_weighted[:, 1]\n",
    "print(\"AUC-ROC для модели логистической регрессии:\", roc_auc_score(target_valid, probabilities_one_valid_weighted))"
   ]
  },
  {
   "cell_type": "code",
   "execution_count": 26,
   "metadata": {},
   "outputs": [
    {
     "name": "stdout",
     "output_type": "stream",
     "text": [
      "max_depth = 1 : F1: 0.4750733137829912\n",
      "AUC-ROC: 0.6898591522430575\n",
      "max_depth = 2 : F1: 0.5161290322580645\n",
      "AUC-ROC: 0.7668954522117437\n",
      "max_depth = 3 : F1: 0.5402425578831312\n",
      "AUC-ROC: 0.8031485299283602\n",
      "max_depth = 4 : F1: 0.5359999999999999\n",
      "AUC-ROC: 0.8126356063002389\n",
      "max_depth = 5 : F1: 0.5446507515473034\n",
      "AUC-ROC: 0.8268610549037622\n",
      "max_depth = 6 : F1: 0.5645472061657033\n",
      "AUC-ROC: 0.825414587701214\n",
      "max_depth = 7 : F1: 0.5416248746238717\n",
      "AUC-ROC: 0.806918087039177\n",
      "max_depth = 8 : F1: 0.5498426023084995\n",
      "AUC-ROC: 0.7899411717020152\n",
      "max_depth = 9 : F1: 0.5067961165048543\n",
      "AUC-ROC: 0.7640351030568142\n",
      "max_depth = 10 : F1: 0.5040485829959513\n",
      "AUC-ROC: 0.7504557961212426\n"
     ]
    }
   ],
   "source": [
    "for depth in range(1, 11):\n",
    "    model_tree_weighted = DecisionTreeClassifier(random_state=12345, max_depth=depth, class_weight='balanced')\n",
    "    model_tree_weighted.fit(features_train, target_train)\n",
    "    predictions_tree_valid_weighted = model_tree_weighted.predict(features_valid)  \n",
    "    print(\"max_depth =\", depth, \": \", end='')\n",
    "    print(\"F1:\", f1_score(target_valid, predictions_tree_valid_weighted))\n",
    "    probabilities_valid_tree_weighted = model_tree_weighted.predict_proba(features_valid)\n",
    "    probabilities_one_valid_tree_weighted = probabilities_valid_tree_weighted[:, 1]\n",
    "    print(\"AUC-ROC:\", roc_auc_score(target_valid, probabilities_one_valid_tree_weighted))"
   ]
  },
  {
   "cell_type": "markdown",
   "metadata": {},
   "source": [
    "Наилучший результат F1 - 0,565 и AUC-ROC = 0.825 из моделей решающего дерева был получен для глубины 6"
   ]
  },
  {
   "cell_type": "code",
   "execution_count": 27,
   "metadata": {},
   "outputs": [
    {
     "name": "stdout",
     "output_type": "stream",
     "text": [
      "F1 наилучшей модели случайного леса на валидационной выборке: 0.5969802555168408 AUC-ROC: 0.7504557961212426 Количество деревьев: 20 Глубина: 9\n"
     ]
    }
   ],
   "source": [
    "best_model_forest_weighted = None\n",
    "best_result_forest_weighted = 0\n",
    "best_est_forest_weighted = 0\n",
    "best_depth_forest_weighted = 0\n",
    "best_roc_auc_score_weighted = 0 \n",
    "for est in range(10, 101, 10):\n",
    "    for depth_forest in range (1, 11):\n",
    "        model_forest_weighted = RandomForestClassifier(random_state=12345, n_estimators=est, max_depth=depth_forest, class_weight='balanced')\n",
    "        model_forest_weighted.fit(features_train, target_train)\n",
    "        predictions_forest_valid_weighted = model_forest_weighted.predict(features_valid)\n",
    "        result_forest_weighted = f1_score(target_valid, predictions_forest_valid_weighted)\n",
    "        probabilities_valid_forest_weighted = model_forest_weighted.predict_proba(features_valid)\n",
    "        probabilities_one_valid_forest_weighted = probabilities_valid_forest_weighted[:, 1]\n",
    "        roc_auc_score_weighted = roc_auc_score(target_valid, probabilities_one_valid_tree_weighted)\n",
    "        if result_forest_weighted > best_result_forest_weighted:\n",
    "            best_model_forest_weighted = model_forest_weighted\n",
    "            best_result_forest_weighted = result_forest_weighted\n",
    "            best_est_forest_weighted = est\n",
    "            best_depth_forest_weighted = depth_forest\n",
    "            best_roc_auc_score_weighted = roc_auc_score_weighted\n",
    "\n",
    "print(\"F1 наилучшей модели случайного леса на валидационной выборке:\", best_result_forest_weighted,\"AUC-ROC:\", best_roc_auc_score_weighted, \"Количество деревьев:\", best_est_forest_weighted, \"Глубина:\", best_depth_forest_weighted)"
   ]
  },
  {
   "cell_type": "markdown",
   "metadata": {},
   "source": [
    "***Вывод***\n",
    "\n",
    "При использовании метода взвешивания для борьбы с дисбалансом классов наилучший результат получается у модели случайного леса с 20 деревьями и глубиной 9."
   ]
  },
  {
   "cell_type": "markdown",
   "metadata": {},
   "source": [
    "# 3.2. Увеличение выборки"
   ]
  },
  {
   "cell_type": "markdown",
   "metadata": {},
   "source": [
    "Создадим функцию upsample, которая разделяет выборку на отрицательные и положительные объекты, дублирует объекты положительного класса, объединяет с объектами отрицательного класса и перемешивает. Затем применим её к нашим данным."
   ]
  },
  {
   "cell_type": "code",
   "execution_count": 28,
   "metadata": {},
   "outputs": [],
   "source": [
    "def upsample(features, target, repeat):\n",
    "    features_zeros = features[target == 0]\n",
    "    features_ones = features[target == 1]\n",
    "    target_zeros = target[target == 0]\n",
    "    target_ones = target[target == 1]\n",
    "\n",
    "    features_upsampled = pd.concat([features_zeros] + [features_ones] * repeat)\n",
    "    target_upsampled = pd.concat([target_zeros] + [target_ones] * repeat)\n",
    "    \n",
    "    features_upsampled, target_upsampled = shuffle(\n",
    "        features_upsampled, target_upsampled, random_state=12345)\n",
    "    \n",
    "    return features_upsampled, target_upsampled\n",
    "\n",
    "features_upsampled, target_upsampled = upsample(features_train, target_train, 5)\n"
   ]
  },
  {
   "cell_type": "code",
   "execution_count": 29,
   "metadata": {},
   "outputs": [
    {
     "data": {
      "text/plain": [
       "1   0.560\n",
       "0   0.440\n",
       "Name: exited, dtype: float64"
      ]
     },
     "metadata": {},
     "output_type": "display_data"
    }
   ],
   "source": [
    "display(target_upsampled.value_counts(normalize=True))"
   ]
  },
  {
   "cell_type": "markdown",
   "metadata": {},
   "source": [
    "Обучим на увеличенной выборке модель **логистической регрессии**:"
   ]
  },
  {
   "cell_type": "code",
   "execution_count": 30,
   "metadata": {},
   "outputs": [
    {
     "name": "stdout",
     "output_type": "stream",
     "text": [
      "F1 для логистической регрессии: 0.5223251895534962\n",
      "AUC-ROC для логистической регрессии: 0.8324657179325374\n"
     ]
    }
   ],
   "source": [
    "model_upsampled_logistic = LogisticRegression(random_state=12345, solver='liblinear')\n",
    "model_upsampled_logistic.fit(features_upsampled, target_upsampled)\n",
    "predicted_valid_upsampled_logistic = model_upsampled_logistic.predict(features_valid)\n",
    "\n",
    "print(\"F1 для логистической регрессии:\", f1_score(target_valid, predicted_valid_upsampled_logistic))\n",
    "probabilities_valid_upsampled_logistic = model_upsampled_logistic.predict_proba(features_valid)\n",
    "probabilities_one_valid_upsampled_logistic = probabilities_valid_upsampled_logistic[:, 1]\n",
    "print(\"AUC-ROC для логистической регрессии:\", roc_auc_score(target_valid, probabilities_one_valid_upsampled_logistic))"
   ]
  },
  {
   "cell_type": "markdown",
   "metadata": {},
   "source": [
    "Обучим на увеличенной выборке модель **решающего дерева**:"
   ]
  },
  {
   "cell_type": "code",
   "execution_count": 31,
   "metadata": {},
   "outputs": [
    {
     "name": "stdout",
     "output_type": "stream",
     "text": [
      "max_depth = 1 : F1: 0.4750733137829912\n",
      "AUC-ROC: 0.6898591522430575\n",
      "max_depth = 2 : F1: 0.4369063772048846\n",
      "AUC-ROC: 0.7668954522117437\n",
      "max_depth = 3 : F1: 0.5402425578831312\n",
      "AUC-ROC: 0.8031485299283602\n",
      "max_depth = 4 : F1: 0.5261121856866537\n",
      "AUC-ROC: 0.8116779178502\n",
      "max_depth = 5 : F1: 0.5341296928327646\n",
      "AUC-ROC: 0.82197088309207\n",
      "max_depth = 6 : F1: 0.5509641873278237\n",
      "AUC-ROC: 0.8197701865624786\n",
      "max_depth = 7 : F1: 0.5384615384615384\n",
      "AUC-ROC: 0.805174378774127\n",
      "max_depth = 8 : F1: 0.5485485485485484\n",
      "AUC-ROC: 0.7773942608632071\n",
      "max_depth = 9 : F1: 0.5047984644913628\n",
      "AUC-ROC: 0.7490927789496105\n",
      "max_depth = 10 : F1: 0.4924528301886793\n",
      "AUC-ROC: 0.7382887816136534\n"
     ]
    }
   ],
   "source": [
    "for depth in range(1, 11):\n",
    "    model_tree_upsampled = DecisionTreeClassifier(random_state=12345, max_depth=depth)\n",
    "    model_tree_upsampled.fit(features_upsampled, target_upsampled)\n",
    "    predictions_tree_valid_upsampled = model_tree_upsampled.predict(features_valid)\n",
    "    print(\"max_depth =\", depth, \": \", end='')\n",
    "    print(\"F1:\", f1_score(target_valid, predictions_tree_valid_upsampled))\n",
    "    probabilities_valid_tree_upsampled = model_tree_upsampled.predict_proba(features_valid)\n",
    "    probabilities_one_valid_tree_upsampled = probabilities_valid_tree_upsampled[:, 1]\n",
    "    print(\"AUC-ROC:\", roc_auc_score(target_valid, probabilities_one_valid_tree_upsampled))"
   ]
  },
  {
   "cell_type": "markdown",
   "metadata": {},
   "source": [
    "Наилучший результат F1 - 0,55 и AUC-ROC = 0,82 из моделей решающего дерева был получен для глубины 6"
   ]
  },
  {
   "cell_type": "markdown",
   "metadata": {},
   "source": [
    "Обучим на увеличенной выборке модели **случайного леса** с числом деревьев от 10 до 100 с шагом в 10, с глубиной от 1 до 10. И посчитаем F1 на валидационной выборке:"
   ]
  },
  {
   "cell_type": "code",
   "execution_count": 32,
   "metadata": {},
   "outputs": [
    {
     "name": "stdout",
     "output_type": "stream",
     "text": [
      "F1 наилучшей модели случайного леса на валидационной выборке: 0.5737538148524924 AUC-ROC: 0.851765723177968 Количество деревьев: 60 Глубина: 10\n"
     ]
    }
   ],
   "source": [
    "best_model_forest_upsampled = None\n",
    "best_result_forest_upsampled = 0\n",
    "best_est_forest_upsampled = 0\n",
    "best_depth_forest_upsampled = 0\n",
    "best_roc_auc_score_upsampled = 0 \n",
    "for est in range(10, 101, 10):\n",
    "    for depth_forest in range (1, 11):\n",
    "        model_forest_upsampled = RandomForestClassifier(random_state=12345, n_estimators=est, max_depth=depth_forest)\n",
    "        model_forest_upsampled.fit(features_upsampled, target_upsampled)\n",
    "        predictions_forest_valid_upsampled = model_forest_upsampled.predict(features_valid)\n",
    "        result_forest_upsampled = f1_score(target_valid, predictions_forest_valid_upsampled)\n",
    "        probabilities_valid_forest_upsampled = model_forest_upsampled.predict_proba(features_valid)\n",
    "        probabilities_one_valid_forest_upsampled = probabilities_valid_forest_upsampled[:, 1]\n",
    "        roc_auc_score_upsampled = roc_auc_score(target_valid, probabilities_one_valid_forest_upsampled)\n",
    "        if result_forest_upsampled > best_result_forest_upsampled:\n",
    "            best_model_forest_upsampled = model_forest_upsampled\n",
    "            best_result_forest_upsampled = result_forest_upsampled\n",
    "            best_est_forest_upsampled = est\n",
    "            best_depth_forest_upsampled = depth_forest\n",
    "            best_roc_auc_score_upsampled = roc_auc_score_upsampled\n",
    "\n",
    "print(\"F1 наилучшей модели случайного леса на валидационной выборке:\", best_result_forest_upsampled, \"AUC-ROC:\", best_roc_auc_score_upsampled, \"Количество деревьев:\", best_est_forest_upsampled, \"Глубина:\", best_depth_forest_upsampled)"
   ]
  },
  {
   "cell_type": "markdown",
   "metadata": {},
   "source": [
    "***Вывод***\n",
    "\n",
    "При использовании метода увеличения выборки для борьбы с дисбалансом классов наилучший результат получается у модели случайного леса с 60 деревьями и глубиной 10."
   ]
  },
  {
   "cell_type": "markdown",
   "metadata": {},
   "source": [
    "# 3.3. Уменьшение выборки"
   ]
  },
  {
   "cell_type": "markdown",
   "metadata": {},
   "source": [
    "Создадим функцию downsample, которая разделяет выборку на отрицательные и положительные объекты, случайным образом отбрасывает часть объектов отрицательного класса и перемешивает данные. Затем применим её к нашим данным."
   ]
  },
  {
   "cell_type": "code",
   "execution_count": 33,
   "metadata": {},
   "outputs": [],
   "source": [
    "def downsample(features, target, fraction):\n",
    "    features_zeros = features[target == 0]\n",
    "    features_ones = features[target == 1]\n",
    "    target_zeros = target[target == 0]\n",
    "    target_ones = target[target == 1]\n",
    "\n",
    "    features_downsampled = pd.concat(\n",
    "        [features_zeros.sample(frac=fraction, random_state=12345)] + [features_ones])\n",
    "    target_downsampled = pd.concat(\n",
    "        [target_zeros.sample(frac=fraction, random_state=12345)] + [target_ones])\n",
    "    \n",
    "    features_downsampled, target_downsampled = shuffle(\n",
    "        features_downsampled, target_downsampled, random_state=12345)\n",
    "    \n",
    "    return features_downsampled, target_downsampled\n",
    "\n",
    "features_downsampled, target_downsampled = downsample(features_train, target_train, 0.3)"
   ]
  },
  {
   "cell_type": "code",
   "execution_count": 34,
   "metadata": {},
   "outputs": [
    {
     "data": {
      "text/plain": [
       "0   0.541\n",
       "1   0.459\n",
       "Name: exited, dtype: float64"
      ]
     },
     "metadata": {},
     "output_type": "display_data"
    }
   ],
   "source": [
    "display(target_downsampled.value_counts(normalize=True))"
   ]
  },
  {
   "cell_type": "markdown",
   "metadata": {},
   "source": [
    "Обучим на уменьшенной выборке модель **логистической регрессии**:"
   ]
  },
  {
   "cell_type": "code",
   "execution_count": 35,
   "metadata": {},
   "outputs": [
    {
     "name": "stdout",
     "output_type": "stream",
     "text": [
      "F1 для логистической регрессии: 0.54323499491353\n",
      "AUC-ROC для логистической регрессии: 0.8334973192671021\n"
     ]
    }
   ],
   "source": [
    "model_downsampled_logistic = LogisticRegression(random_state=12345, solver='liblinear')\n",
    "model_downsampled_logistic.fit(features_downsampled, target_downsampled)\n",
    "predicted_valid_downsampled_logistic = model_downsampled_logistic.predict(features_valid)\n",
    "\n",
    "print(\"F1 для логистической регрессии:\", f1_score(target_valid, predicted_valid_downsampled_logistic))\n",
    "probabilities_valid_downsampled_logistic = model_downsampled_logistic.predict_proba(features_valid)\n",
    "probabilities_one_valid_downsampled_logistic = probabilities_valid_downsampled_logistic[:, 1]\n",
    "print(\"AUC-ROC для логистической регрессии:\", roc_auc_score(target_valid, probabilities_one_valid_downsampled_logistic))"
   ]
  },
  {
   "cell_type": "markdown",
   "metadata": {},
   "source": [
    "Обучим на уменьшенной выборке модель **решающего дерева**:"
   ]
  },
  {
   "cell_type": "code",
   "execution_count": 36,
   "metadata": {},
   "outputs": [
    {
     "name": "stdout",
     "output_type": "stream",
     "text": [
      "max_depth = 1 : F1: 0.4750733137829912\n",
      "AUC-ROC: 0.6898591522430575\n",
      "max_depth = 2 : F1: 0.5161290322580645\n",
      "AUC-ROC: 0.7668954522117437\n",
      "max_depth = 3 : F1: 0.5402425578831312\n",
      "AUC-ROC: 0.8035633957963438\n",
      "max_depth = 4 : F1: 0.5240431795878313\n",
      "AUC-ROC: 0.8129757645214976\n",
      "max_depth = 5 : F1: 0.5500945179584121\n",
      "AUC-ROC: 0.8340472947089501\n",
      "max_depth = 6 : F1: 0.5413687436159346\n",
      "AUC-ROC: 0.824535580708896\n",
      "max_depth = 7 : F1: 0.5423076923076923\n",
      "AUC-ROC: 0.810856928498424\n",
      "max_depth = 8 : F1: 0.5414585414585414\n",
      "AUC-ROC: 0.7956396166702961\n",
      "max_depth = 9 : F1: 0.5288932419196866\n",
      "AUC-ROC: 0.7694736607859562\n",
      "max_depth = 10 : F1: 0.5004668534080299\n",
      "AUC-ROC: 0.7470232181828875\n"
     ]
    }
   ],
   "source": [
    "for depth in range(1, 11):\n",
    "    model_tree_downsampled = DecisionTreeClassifier(random_state=12345, max_depth=depth)\n",
    "    model_tree_downsampled.fit(features_downsampled, target_downsampled)\n",
    "    predictions_tree_valid_downsampled = model_tree_downsampled.predict(features_valid)\n",
    "    print(\"max_depth =\", depth, \": \", end='')\n",
    "    print(\"F1:\", f1_score(target_valid, predictions_tree_valid_downsampled))\n",
    "    probabilities_valid_tree_downsampled = model_tree_downsampled.predict_proba(features_valid)\n",
    "    probabilities_one_valid_tree_downsampled = probabilities_valid_tree_downsampled[:, 1]\n",
    "    print(\"AUC-ROC:\", roc_auc_score(target_valid, probabilities_one_valid_tree_downsampled))"
   ]
  },
  {
   "cell_type": "markdown",
   "metadata": {},
   "source": [
    "Наилучший результат F1 - 0,55 был получен для глубины 5"
   ]
  },
  {
   "cell_type": "markdown",
   "metadata": {},
   "source": [
    "Обучим на уменьшенной выборке модели **случайного леса** с числом деревьев от 10 до 100 с шагом в 10, с глубиной от 1 до 10. И посчитаем F1 на валидационной выборке:"
   ]
  },
  {
   "cell_type": "code",
   "execution_count": 37,
   "metadata": {},
   "outputs": [
    {
     "name": "stdout",
     "output_type": "stream",
     "text": [
      "F1 наилучшей модели случайного леса на валидационной выборке: 0.5868392664509169 AUC-ROC: 0.8504352912565032 Количество деревьев: 60 Глубина: 9\n"
     ]
    }
   ],
   "source": [
    "best_model_forest_downsampled = None\n",
    "best_result_forest_downsampled = 0\n",
    "best_est_forest_downsampled = 0\n",
    "best_depth_forest_downsampled = 0\n",
    "best_roc_auc_score_downsampled = 0 \n",
    "for est in range(10, 101, 10):\n",
    "    for depth_forest in range (1, 11):\n",
    "        model_forest_downsampled = RandomForestClassifier(random_state=12345, n_estimators=est, max_depth=depth_forest)\n",
    "        model_forest_downsampled.fit(features_downsampled, target_downsampled)\n",
    "        predictions_forest_valid_downsampled = model_forest_downsampled.predict(features_valid)\n",
    "        result_forest_downsampled = f1_score(target_valid, predictions_forest_valid_downsampled)\n",
    "        probabilities_valid_forest_downsampled = model_forest_downsampled.predict_proba(features_valid)\n",
    "        probabilities_one_valid_forest_downsampled = probabilities_valid_forest_downsampled[:, 1]\n",
    "        roc_auc_score_downsampled = roc_auc_score(target_valid, probabilities_one_valid_forest_downsampled)\n",
    "        if result_forest_downsampled > best_result_forest_downsampled:\n",
    "            best_model_forest_downsampled = model_forest_downsampled\n",
    "            best_result_forest_downsampled = result_forest_downsampled\n",
    "            best_est_forest_downsampled = est\n",
    "            best_depth_forest_downsampled = depth_forest\n",
    "            best_roc_auc_score_downsampled = roc_auc_score_downsampled\n",
    "\n",
    "print(\"F1 наилучшей модели случайного леса на валидационной выборке:\", best_result_forest_downsampled, \"AUC-ROC:\", best_roc_auc_score_downsampled, \"Количество деревьев:\", best_est_forest_downsampled, \"Глубина:\", best_depth_forest_downsampled)"
   ]
  },
  {
   "cell_type": "markdown",
   "metadata": {},
   "source": [
    "***Вывод***\n",
    "\n",
    "При использовании метода увеличения выборки для борьбы с дисбалансом классов наилучший результат получается у модели случайного леса с 60 деревьями и глубиной 9."
   ]
  },
  {
   "cell_type": "markdown",
   "metadata": {},
   "source": [
    "<a id=\"testing\"></a>\n",
    "# 4. Тестирование модели"
   ]
  },
  {
   "cell_type": "markdown",
   "metadata": {},
   "source": [
    "Проверим выбранную нами наилучшую модель (модель случайного леса с 20 деревьями и глубиной 9, полученную методом взвешивания выборки) на тестовой выборке."
   ]
  },
  {
   "cell_type": "code",
   "execution_count": 38,
   "metadata": {},
   "outputs": [
    {
     "name": "stdout",
     "output_type": "stream",
     "text": [
      "F1 на валидационной выборке: 0.5969802555168408\n",
      "F1 на тестовой выборке: 0.6461211477151967\n",
      "AUC-ROC на валидационной выборке: 0.7504557961212426\n",
      "AUC-ROC на тестовой выборке: 0.8666043345626058\n"
     ]
    }
   ],
   "source": [
    "model_forest_weighted_best = RandomForestClassifier(random_state=12345, n_estimators=20, max_depth=9, class_weight='balanced')\n",
    "model_forest_weighted_best.fit(features_train, target_train)\n",
    "predictions_forest_valid_weighted = model_forest_weighted_best.predict(features_valid)\n",
    "predictions_forest_test_weighted = model_forest_weighted_best.predict(features_test)\n",
    "print(\"F1 на валидационной выборке:\", f1_score(target_valid, predictions_forest_valid_weighted))\n",
    "print(\"F1 на тестовой выборке:\", f1_score(target_test, predictions_forest_test_weighted))\n",
    "probabilities_valid_forest_weighted = model_forest_weighted_best.predict_proba(features_valid)\n",
    "probabilities_one_valid_forest_weighted = probabilities_valid_forest_weighted[:, 1]\n",
    "print(\"AUC-ROC на валидационной выборке:\", roc_auc_score(target_valid, probabilities_one_valid_tree_weighted))\n",
    "probabilities_test_forest_weighted = model_forest_weighted_best.predict_proba(features_test)\n",
    "probabilities_one_test_forest_weighted = probabilities_test_forest_weighted[:, 1]\n",
    "print(\"AUC-ROC на тестовой выборке:\", roc_auc_score(target_test, probabilities_one_test_forest_weighted))"
   ]
  },
  {
   "cell_type": "code",
   "execution_count": 39,
   "metadata": {},
   "outputs": [
    {
     "name": "stdout",
     "output_type": "stream",
     "text": [
      "[[1363  210]\n",
      " [ 123  304]]\n"
     ]
    }
   ],
   "source": [
    "print(confusion_matrix(target_test, predictions_forest_test_weighted))"
   ]
  },
  {
   "cell_type": "code",
   "execution_count": 40,
   "metadata": {},
   "outputs": [
    {
     "data": {
      "text/plain": [
       "Text(0.5, 1.0, 'ROC-кривая лучшей модели на тестовой выборке')"
      ]
     },
     "execution_count": 40,
     "metadata": {},
     "output_type": "execute_result"
    },
    {
     "data": {
      "image/png": "[encoded data removed]",
      "text/plain": [
       "<Figure size 432x288 with 1 Axes>"
      ]
     },
     "metadata": {
      "needs_background": "light"
     },
     "output_type": "display_data"
    }
   ],
   "source": [
    "fpr, tpr, thresholds = roc_curve(target_test, probabilities_one_test_forest_weighted)\n",
    "\n",
    "plt.figure()\n",
    "plt.plot(fpr, tpr)\n",
    "plt.xlim([0.0, 1.0])\n",
    "plt.ylim([0.0, 1.0])\n",
    "plt.xlabel('False Positive Rate')\n",
    "plt.ylabel('True Positive Rate')\n",
    "plt.title('ROC-кривая лучшей модели на тестовой выборке')"
   ]
  },
  {
   "cell_type": "markdown",
   "metadata": {},
   "source": [
    "***Вывод***:\n",
    "\n",
    "Модель случайного леса с 20 деревьями и глубиной 9, полученная методом взвешивания выборки, показала хорошие результаты при тестировании - F1 на тестовой выборке: 0.65, AUC-ROC на тестовой выборке: 0.87; что позволит «Бета-Банку» предсказать уход клиентов и удержать их."
   ]
  },
  {
   "cell_type": "markdown",
   "metadata": {},
   "source": [
    "<a id=\"finalizing\"></a>\n",
    "# 5. Общий вывод"
   ]
  },
  {
   "cell_type": "markdown",
   "metadata": {},
   "source": [
    "- В ходе данной работы были проанализированы данные об оттоке клиентов Бета-банка.\n",
    "\n",
    "- Около 80% выборки - существующие клиенты. И лишь 20% - ушедшие. Выборка несбалансированна. Метрику accuracy для оценки создаваемых моделей в данном случае будет применять некорректно. Поэтому сравнение моделей идёт по метрикам F1 и AUC-ROC. В данной задаче для нас будет важнее метрика F1, т.к. нам очень важно удержать существующих клиентов, т.е. предсказать факт ухода.\n",
    "\n",
    "- Данные были подготовлены к обучению: отредактированы названия столбцов, удалены ненужные для моделирования столбцы, заполнены пропуски, созданы dummy-переменные, численные признаки масштабированы, затем данные были разделены на обучающую, валидационную и тестовую выборки. \n",
    "\n",
    "- Было использовано 3 метода борьбы с дисбалансом: метод взвешивания, метод увеличения выборки и метод уменьшения выборки. Для каждого метода было построено и обучено три модели: решающего дерева, случайного леса и логистической регрессии с разными гиперпараметрами.\n",
    "\n",
    "- При использовании метода взвешивания для борьбы с дисбалансом классов наилучший результат получается у модели случайного леса с 20 деревьями и глубиной 9. Она же оказалась наилучшей моделью по итогам использования всех трёх методов.\n",
    "\n",
    "- При использовании метода увеличения выборки для борьбы с дисбалансом классов наилучший результат получается у модели случайного леса с 60 деревьями и глубиной 10.\n",
    "\n",
    "- При использовании метода увеличения выборки для борьбы с дисбалансом классов наилучший результат получается у модели случайного леса с 60 деревьями и глубиной 9.\n",
    "\n",
    "- Модель случайного леса с 20 деревьями и глубиной 9, полученная методом взвешивания выборки, показала хорошие результаты при тестировании - F1 на тестовой выборке: 0.65, AUC-ROC на тестовой выборке: 0.87; что позволит «Бета-Банку» предсказать уход клиентов и удержать их."
   ]
  }
 ],
 "metadata": {
  "kernelspec": {
   "display_name": "Python 3",
   "language": "python",
   "name": "python3"
  },
  "language_info": {
   "codemirror_mode": {
    "name": "ipython",
    "version": 3
   },
   "file_extension": ".py",
   "mimetype": "text/x-python",
   "name": "python",
   "nbconvert_exporter": "python",
   "pygments_lexer": "ipython3",
   "version": "3.7.10"
  },
  "toc": {
   "base_numbering": 1,
   "nav_menu": {},
   "number_sections": true,
   "sideBar": true,
   "skip_h1_title": true,
   "title_cell": "Table of Contents",
   "title_sidebar": "Contents",
   "toc_cell": false,
   "toc_position": {},
   "toc_section_display": true,
   "toc_window_display": false
  }
 },
 "nbformat": 4,
 "nbformat_minor": 2
}
