{
 "cells": [
  {
   "cell_type": "markdown",
   "id": "hollywood-flavor",
   "metadata": {},
   "source": [
    "# Выбор локации для скважины"
   ]
  },
  {
   "cell_type": "markdown",
   "id": "representative-bottom",
   "metadata": {},
   "source": [
    "[Введение](#beginning)\n",
    "\n",
    "1. [Загрузка и подготовка данных](#preparing)\n",
    "\n",
    "\n",
    "2. [Обучение и проверка модели](#modelling)\n",
    "\n",
    "    2.1. [Модель для 1го региона](#model0)\n",
    "    \n",
    "    2.2. [Модель для 2го региона](#model1)\n",
    "    \n",
    "    2.3. [Модель для 3го региона](#model2)\n",
    "    \n",
    "    \n",
    "3. [Подготовка к расчёту прибыли](#profit)\n",
    "\n",
    "\n",
    "4. [Расчёт прибыли и рисков](#risk)\n",
    "\n",
    "\n",
    "5. [Общий вывод](#finalizing)  "
   ]
  },
  {
   "cell_type": "markdown",
   "id": "intelligent-spouse",
   "metadata": {},
   "source": [
    "<a id=\"beginning\"></a>\n",
    "## Введение"
   ]
  },
  {
   "cell_type": "markdown",
   "id": "touched-outside",
   "metadata": {},
   "source": [
    "В ходе данной работы будет построена модель для предсказания объёма запасов в новых скважинах, выбраны скважины с самыми высокими оценками значений и определён регион с максимальной суммарной прибылью отобранных скважин."
   ]
  },
  {
   "cell_type": "markdown",
   "id": "contained-cream",
   "metadata": {},
   "source": [
    "<a id=\"preparing\"></a>\n",
    "## Загрузка и подготовка данных"
   ]
  },
  {
   "cell_type": "code",
   "execution_count": 1,
   "id": "canadian-newport",
   "metadata": {},
   "outputs": [],
   "source": [
    "import pandas as pd\n",
    "import numpy as np\n",
    "import matplotlib.pyplot as plt\n",
    "from scipy import stats as st\n",
    "from sklearn.model_selection import train_test_split\n",
    "from sklearn.linear_model import LinearRegression\n",
    "from sklearn.preprocessing import StandardScaler\n",
    "from sklearn.metrics import confusion_matrix\n",
    "from sklearn.metrics import r2_score\n",
    "from sklearn.metrics import mean_absolute_error\n",
    "from sklearn.metrics import mean_squared_error\n",
    "from sklearn.utils import shuffle\n",
    "pd.options.mode.chained_assignment = None\n",
    "pd.options.display.max_columns = None\n",
    "pd.set_option('display.float_format', lambda x: '%.3f' % x)"
   ]
  },
  {
   "cell_type": "code",
   "execution_count": 2,
   "id": "premium-editing",
   "metadata": {},
   "outputs": [],
   "source": [
    "try:\n",
    "    data0 = pd.read_csv(\"C:/Users/Lantana/Documents/data_science/8_machine/geo_data_0.csv\")\n",
    "    data1 = pd.read_csv(\"C:/Users/Lantana/Documents/data_science/8_machine/geo_data_1.csv\")\n",
    "    data2 = pd.read_csv(\"C:/Users/Lantana/Documents/data_science/8_machine/geo_data_2.csv\")\n",
    "\n",
    "except:\n",
    "    data0 = pd.read_csv('/datasets/geo_data_0.csv')\n",
    "    data1 = pd.read_csv('/datasets/geo_data_1.csv')\n",
    "    data2 = pd.read_csv('/datasets/geo_data_2.csv')"
   ]
  },
  {
   "cell_type": "code",
   "execution_count": 3,
   "id": "academic-design",
   "metadata": {},
   "outputs": [
    {
     "data": {
      "text/html": [
       "<div>\n",
       "<style scoped>\n",
       "    .dataframe tbody tr th:only-of-type {\n",
       "        vertical-align: middle;\n",
       "    }\n",
       "\n",
       "    .dataframe tbody tr th {\n",
       "        vertical-align: top;\n",
       "    }\n",
       "\n",
       "    .dataframe thead th {\n",
       "        text-align: right;\n",
       "    }\n",
       "</style>\n",
       "<table border=\"1\" class=\"dataframe\">\n",
       "  <thead>\n",
       "    <tr style=\"text-align: right;\">\n",
       "      <th></th>\n",
       "      <th>id</th>\n",
       "      <th>f0</th>\n",
       "      <th>f1</th>\n",
       "      <th>f2</th>\n",
       "      <th>product</th>\n",
       "    </tr>\n",
       "  </thead>\n",
       "  <tbody>\n",
       "    <tr>\n",
       "      <td>0</td>\n",
       "      <td>txEyH</td>\n",
       "      <td>0.706</td>\n",
       "      <td>-0.498</td>\n",
       "      <td>1.221</td>\n",
       "      <td>105.280</td>\n",
       "    </tr>\n",
       "    <tr>\n",
       "      <td>1</td>\n",
       "      <td>2acmU</td>\n",
       "      <td>1.335</td>\n",
       "      <td>-0.340</td>\n",
       "      <td>4.365</td>\n",
       "      <td>73.038</td>\n",
       "    </tr>\n",
       "    <tr>\n",
       "      <td>2</td>\n",
       "      <td>409Wp</td>\n",
       "      <td>1.023</td>\n",
       "      <td>0.152</td>\n",
       "      <td>1.420</td>\n",
       "      <td>85.266</td>\n",
       "    </tr>\n",
       "    <tr>\n",
       "      <td>3</td>\n",
       "      <td>iJLyR</td>\n",
       "      <td>-0.032</td>\n",
       "      <td>0.139</td>\n",
       "      <td>2.979</td>\n",
       "      <td>168.621</td>\n",
       "    </tr>\n",
       "    <tr>\n",
       "      <td>4</td>\n",
       "      <td>Xdl7t</td>\n",
       "      <td>1.988</td>\n",
       "      <td>0.155</td>\n",
       "      <td>4.752</td>\n",
       "      <td>154.037</td>\n",
       "    </tr>\n",
       "  </tbody>\n",
       "</table>\n",
       "</div>"
      ],
      "text/plain": [
       "      id     f0     f1    f2  product\n",
       "0  txEyH  0.706 -0.498 1.221  105.280\n",
       "1  2acmU  1.335 -0.340 4.365   73.038\n",
       "2  409Wp  1.023  0.152 1.420   85.266\n",
       "3  iJLyR -0.032  0.139 2.979  168.621\n",
       "4  Xdl7t  1.988  0.155 4.752  154.037"
      ]
     },
     "execution_count": 3,
     "metadata": {},
     "output_type": "execute_result"
    }
   ],
   "source": [
    "data0.head()"
   ]
  },
  {
   "cell_type": "code",
   "execution_count": 4,
   "id": "atmospheric-acrobat",
   "metadata": {},
   "outputs": [
    {
     "name": "stdout",
     "output_type": "stream",
     "text": [
      "<class 'pandas.core.frame.DataFrame'>\n",
      "RangeIndex: 100000 entries, 0 to 99999\n",
      "Data columns (total 5 columns):\n",
      "id         100000 non-null object\n",
      "f0         100000 non-null float64\n",
      "f1         100000 non-null float64\n",
      "f2         100000 non-null float64\n",
      "product    100000 non-null float64\n",
      "dtypes: float64(4), object(1)\n",
      "memory usage: 3.8+ MB\n"
     ]
    }
   ],
   "source": [
    "data0.info()"
   ]
  },
  {
   "cell_type": "code",
   "execution_count": 5,
   "id": "satisfactory-commons",
   "metadata": {},
   "outputs": [
    {
     "data": {
      "text/html": [
       "<div>\n",
       "<style scoped>\n",
       "    .dataframe tbody tr th:only-of-type {\n",
       "        vertical-align: middle;\n",
       "    }\n",
       "\n",
       "    .dataframe tbody tr th {\n",
       "        vertical-align: top;\n",
       "    }\n",
       "\n",
       "    .dataframe thead th {\n",
       "        text-align: right;\n",
       "    }\n",
       "</style>\n",
       "<table border=\"1\" class=\"dataframe\">\n",
       "  <thead>\n",
       "    <tr style=\"text-align: right;\">\n",
       "      <th></th>\n",
       "      <th>f0</th>\n",
       "      <th>f1</th>\n",
       "      <th>f2</th>\n",
       "      <th>product</th>\n",
       "    </tr>\n",
       "  </thead>\n",
       "  <tbody>\n",
       "    <tr>\n",
       "      <td>count</td>\n",
       "      <td>100000.000</td>\n",
       "      <td>100000.000</td>\n",
       "      <td>100000.000</td>\n",
       "      <td>100000.000</td>\n",
       "    </tr>\n",
       "    <tr>\n",
       "      <td>mean</td>\n",
       "      <td>0.500</td>\n",
       "      <td>0.250</td>\n",
       "      <td>2.503</td>\n",
       "      <td>92.500</td>\n",
       "    </tr>\n",
       "    <tr>\n",
       "      <td>std</td>\n",
       "      <td>0.872</td>\n",
       "      <td>0.504</td>\n",
       "      <td>3.248</td>\n",
       "      <td>44.289</td>\n",
       "    </tr>\n",
       "    <tr>\n",
       "      <td>min</td>\n",
       "      <td>-1.409</td>\n",
       "      <td>-0.848</td>\n",
       "      <td>-12.088</td>\n",
       "      <td>0.000</td>\n",
       "    </tr>\n",
       "    <tr>\n",
       "      <td>25%</td>\n",
       "      <td>-0.073</td>\n",
       "      <td>-0.201</td>\n",
       "      <td>0.288</td>\n",
       "      <td>56.498</td>\n",
       "    </tr>\n",
       "    <tr>\n",
       "      <td>50%</td>\n",
       "      <td>0.502</td>\n",
       "      <td>0.250</td>\n",
       "      <td>2.516</td>\n",
       "      <td>91.850</td>\n",
       "    </tr>\n",
       "    <tr>\n",
       "      <td>75%</td>\n",
       "      <td>1.074</td>\n",
       "      <td>0.701</td>\n",
       "      <td>4.715</td>\n",
       "      <td>128.564</td>\n",
       "    </tr>\n",
       "    <tr>\n",
       "      <td>max</td>\n",
       "      <td>2.362</td>\n",
       "      <td>1.344</td>\n",
       "      <td>16.004</td>\n",
       "      <td>185.364</td>\n",
       "    </tr>\n",
       "  </tbody>\n",
       "</table>\n",
       "</div>"
      ],
      "text/plain": [
       "              f0         f1         f2    product\n",
       "count 100000.000 100000.000 100000.000 100000.000\n",
       "mean       0.500      0.250      2.503     92.500\n",
       "std        0.872      0.504      3.248     44.289\n",
       "min       -1.409     -0.848    -12.088      0.000\n",
       "25%       -0.073     -0.201      0.288     56.498\n",
       "50%        0.502      0.250      2.516     91.850\n",
       "75%        1.074      0.701      4.715    128.564\n",
       "max        2.362      1.344     16.004    185.364"
      ]
     },
     "execution_count": 5,
     "metadata": {},
     "output_type": "execute_result"
    }
   ],
   "source": [
    "data0.describe()"
   ]
  },
  {
   "cell_type": "code",
   "execution_count": 6,
   "id": "persistent-phoenix",
   "metadata": {},
   "outputs": [
    {
     "data": {
      "text/html": [
       "<div>\n",
       "<style scoped>\n",
       "    .dataframe tbody tr th:only-of-type {\n",
       "        vertical-align: middle;\n",
       "    }\n",
       "\n",
       "    .dataframe tbody tr th {\n",
       "        vertical-align: top;\n",
       "    }\n",
       "\n",
       "    .dataframe thead th {\n",
       "        text-align: right;\n",
       "    }\n",
       "</style>\n",
       "<table border=\"1\" class=\"dataframe\">\n",
       "  <thead>\n",
       "    <tr style=\"text-align: right;\">\n",
       "      <th></th>\n",
       "      <th>id</th>\n",
       "      <th>f0</th>\n",
       "      <th>f1</th>\n",
       "      <th>f2</th>\n",
       "      <th>product</th>\n",
       "    </tr>\n",
       "  </thead>\n",
       "  <tbody>\n",
       "    <tr>\n",
       "      <td>0</td>\n",
       "      <td>kBEdx</td>\n",
       "      <td>-15.001</td>\n",
       "      <td>-8.276</td>\n",
       "      <td>-0.006</td>\n",
       "      <td>3.179</td>\n",
       "    </tr>\n",
       "    <tr>\n",
       "      <td>1</td>\n",
       "      <td>62mP7</td>\n",
       "      <td>14.272</td>\n",
       "      <td>-3.475</td>\n",
       "      <td>0.999</td>\n",
       "      <td>26.953</td>\n",
       "    </tr>\n",
       "    <tr>\n",
       "      <td>2</td>\n",
       "      <td>vyE1P</td>\n",
       "      <td>6.263</td>\n",
       "      <td>-5.948</td>\n",
       "      <td>5.001</td>\n",
       "      <td>134.766</td>\n",
       "    </tr>\n",
       "    <tr>\n",
       "      <td>3</td>\n",
       "      <td>KcrkZ</td>\n",
       "      <td>-13.081</td>\n",
       "      <td>-11.506</td>\n",
       "      <td>4.999</td>\n",
       "      <td>137.945</td>\n",
       "    </tr>\n",
       "    <tr>\n",
       "      <td>4</td>\n",
       "      <td>AHL4O</td>\n",
       "      <td>12.702</td>\n",
       "      <td>-8.147</td>\n",
       "      <td>5.004</td>\n",
       "      <td>134.766</td>\n",
       "    </tr>\n",
       "  </tbody>\n",
       "</table>\n",
       "</div>"
      ],
      "text/plain": [
       "      id      f0      f1     f2  product\n",
       "0  kBEdx -15.001  -8.276 -0.006    3.179\n",
       "1  62mP7  14.272  -3.475  0.999   26.953\n",
       "2  vyE1P   6.263  -5.948  5.001  134.766\n",
       "3  KcrkZ -13.081 -11.506  4.999  137.945\n",
       "4  AHL4O  12.702  -8.147  5.004  134.766"
      ]
     },
     "execution_count": 6,
     "metadata": {},
     "output_type": "execute_result"
    }
   ],
   "source": [
    "data1.head()"
   ]
  },
  {
   "cell_type": "code",
   "execution_count": 7,
   "id": "tribal-remove",
   "metadata": {},
   "outputs": [
    {
     "name": "stdout",
     "output_type": "stream",
     "text": [
      "<class 'pandas.core.frame.DataFrame'>\n",
      "RangeIndex: 100000 entries, 0 to 99999\n",
      "Data columns (total 5 columns):\n",
      "id         100000 non-null object\n",
      "f0         100000 non-null float64\n",
      "f1         100000 non-null float64\n",
      "f2         100000 non-null float64\n",
      "product    100000 non-null float64\n",
      "dtypes: float64(4), object(1)\n",
      "memory usage: 3.8+ MB\n"
     ]
    }
   ],
   "source": [
    "data1.info()"
   ]
  },
  {
   "cell_type": "code",
   "execution_count": 8,
   "id": "aware-lexington",
   "metadata": {},
   "outputs": [
    {
     "data": {
      "text/html": [
       "<div>\n",
       "<style scoped>\n",
       "    .dataframe tbody tr th:only-of-type {\n",
       "        vertical-align: middle;\n",
       "    }\n",
       "\n",
       "    .dataframe tbody tr th {\n",
       "        vertical-align: top;\n",
       "    }\n",
       "\n",
       "    .dataframe thead th {\n",
       "        text-align: right;\n",
       "    }\n",
       "</style>\n",
       "<table border=\"1\" class=\"dataframe\">\n",
       "  <thead>\n",
       "    <tr style=\"text-align: right;\">\n",
       "      <th></th>\n",
       "      <th>f0</th>\n",
       "      <th>f1</th>\n",
       "      <th>f2</th>\n",
       "      <th>product</th>\n",
       "    </tr>\n",
       "  </thead>\n",
       "  <tbody>\n",
       "    <tr>\n",
       "      <td>count</td>\n",
       "      <td>100000.000</td>\n",
       "      <td>100000.000</td>\n",
       "      <td>100000.000</td>\n",
       "      <td>100000.000</td>\n",
       "    </tr>\n",
       "    <tr>\n",
       "      <td>mean</td>\n",
       "      <td>1.141</td>\n",
       "      <td>-4.797</td>\n",
       "      <td>2.495</td>\n",
       "      <td>68.825</td>\n",
       "    </tr>\n",
       "    <tr>\n",
       "      <td>std</td>\n",
       "      <td>8.966</td>\n",
       "      <td>5.120</td>\n",
       "      <td>1.704</td>\n",
       "      <td>45.944</td>\n",
       "    </tr>\n",
       "    <tr>\n",
       "      <td>min</td>\n",
       "      <td>-31.610</td>\n",
       "      <td>-26.359</td>\n",
       "      <td>-0.018</td>\n",
       "      <td>0.000</td>\n",
       "    </tr>\n",
       "    <tr>\n",
       "      <td>25%</td>\n",
       "      <td>-6.299</td>\n",
       "      <td>-8.268</td>\n",
       "      <td>1.000</td>\n",
       "      <td>26.953</td>\n",
       "    </tr>\n",
       "    <tr>\n",
       "      <td>50%</td>\n",
       "      <td>1.153</td>\n",
       "      <td>-4.813</td>\n",
       "      <td>2.011</td>\n",
       "      <td>57.086</td>\n",
       "    </tr>\n",
       "    <tr>\n",
       "      <td>75%</td>\n",
       "      <td>8.621</td>\n",
       "      <td>-1.333</td>\n",
       "      <td>4.000</td>\n",
       "      <td>107.813</td>\n",
       "    </tr>\n",
       "    <tr>\n",
       "      <td>max</td>\n",
       "      <td>29.422</td>\n",
       "      <td>18.734</td>\n",
       "      <td>5.020</td>\n",
       "      <td>137.945</td>\n",
       "    </tr>\n",
       "  </tbody>\n",
       "</table>\n",
       "</div>"
      ],
      "text/plain": [
       "              f0         f1         f2    product\n",
       "count 100000.000 100000.000 100000.000 100000.000\n",
       "mean       1.141     -4.797      2.495     68.825\n",
       "std        8.966      5.120      1.704     45.944\n",
       "min      -31.610    -26.359     -0.018      0.000\n",
       "25%       -6.299     -8.268      1.000     26.953\n",
       "50%        1.153     -4.813      2.011     57.086\n",
       "75%        8.621     -1.333      4.000    107.813\n",
       "max       29.422     18.734      5.020    137.945"
      ]
     },
     "execution_count": 8,
     "metadata": {},
     "output_type": "execute_result"
    }
   ],
   "source": [
    "data1.describe()"
   ]
  },
  {
   "cell_type": "code",
   "execution_count": 9,
   "id": "julian-external",
   "metadata": {},
   "outputs": [
    {
     "data": {
      "text/html": [
       "<div>\n",
       "<style scoped>\n",
       "    .dataframe tbody tr th:only-of-type {\n",
       "        vertical-align: middle;\n",
       "    }\n",
       "\n",
       "    .dataframe tbody tr th {\n",
       "        vertical-align: top;\n",
       "    }\n",
       "\n",
       "    .dataframe thead th {\n",
       "        text-align: right;\n",
       "    }\n",
       "</style>\n",
       "<table border=\"1\" class=\"dataframe\">\n",
       "  <thead>\n",
       "    <tr style=\"text-align: right;\">\n",
       "      <th></th>\n",
       "      <th>id</th>\n",
       "      <th>f0</th>\n",
       "      <th>f1</th>\n",
       "      <th>f2</th>\n",
       "      <th>product</th>\n",
       "    </tr>\n",
       "  </thead>\n",
       "  <tbody>\n",
       "    <tr>\n",
       "      <td>0</td>\n",
       "      <td>fwXo0</td>\n",
       "      <td>-1.147</td>\n",
       "      <td>0.963</td>\n",
       "      <td>-0.829</td>\n",
       "      <td>27.759</td>\n",
       "    </tr>\n",
       "    <tr>\n",
       "      <td>1</td>\n",
       "      <td>WJtFt</td>\n",
       "      <td>0.263</td>\n",
       "      <td>0.270</td>\n",
       "      <td>-2.530</td>\n",
       "      <td>56.070</td>\n",
       "    </tr>\n",
       "    <tr>\n",
       "      <td>2</td>\n",
       "      <td>ovLUW</td>\n",
       "      <td>0.195</td>\n",
       "      <td>0.289</td>\n",
       "      <td>-5.586</td>\n",
       "      <td>62.872</td>\n",
       "    </tr>\n",
       "    <tr>\n",
       "      <td>3</td>\n",
       "      <td>q6cA6</td>\n",
       "      <td>2.236</td>\n",
       "      <td>-0.554</td>\n",
       "      <td>0.930</td>\n",
       "      <td>114.573</td>\n",
       "    </tr>\n",
       "    <tr>\n",
       "      <td>4</td>\n",
       "      <td>WPMUX</td>\n",
       "      <td>-0.516</td>\n",
       "      <td>1.716</td>\n",
       "      <td>5.899</td>\n",
       "      <td>149.601</td>\n",
       "    </tr>\n",
       "  </tbody>\n",
       "</table>\n",
       "</div>"
      ],
      "text/plain": [
       "      id     f0     f1     f2  product\n",
       "0  fwXo0 -1.147  0.963 -0.829   27.759\n",
       "1  WJtFt  0.263  0.270 -2.530   56.070\n",
       "2  ovLUW  0.195  0.289 -5.586   62.872\n",
       "3  q6cA6  2.236 -0.554  0.930  114.573\n",
       "4  WPMUX -0.516  1.716  5.899  149.601"
      ]
     },
     "execution_count": 9,
     "metadata": {},
     "output_type": "execute_result"
    }
   ],
   "source": [
    "data2.head()"
   ]
  },
  {
   "cell_type": "code",
   "execution_count": 10,
   "id": "ongoing-nutrition",
   "metadata": {},
   "outputs": [
    {
     "name": "stdout",
     "output_type": "stream",
     "text": [
      "<class 'pandas.core.frame.DataFrame'>\n",
      "RangeIndex: 100000 entries, 0 to 99999\n",
      "Data columns (total 5 columns):\n",
      "id         100000 non-null object\n",
      "f0         100000 non-null float64\n",
      "f1         100000 non-null float64\n",
      "f2         100000 non-null float64\n",
      "product    100000 non-null float64\n",
      "dtypes: float64(4), object(1)\n",
      "memory usage: 3.8+ MB\n"
     ]
    }
   ],
   "source": [
    "data2.info()"
   ]
  },
  {
   "cell_type": "code",
   "execution_count": 11,
   "id": "empirical-hungary",
   "metadata": {},
   "outputs": [
    {
     "data": {
      "text/html": [
       "<div>\n",
       "<style scoped>\n",
       "    .dataframe tbody tr th:only-of-type {\n",
       "        vertical-align: middle;\n",
       "    }\n",
       "\n",
       "    .dataframe tbody tr th {\n",
       "        vertical-align: top;\n",
       "    }\n",
       "\n",
       "    .dataframe thead th {\n",
       "        text-align: right;\n",
       "    }\n",
       "</style>\n",
       "<table border=\"1\" class=\"dataframe\">\n",
       "  <thead>\n",
       "    <tr style=\"text-align: right;\">\n",
       "      <th></th>\n",
       "      <th>f0</th>\n",
       "      <th>f1</th>\n",
       "      <th>f2</th>\n",
       "      <th>product</th>\n",
       "    </tr>\n",
       "  </thead>\n",
       "  <tbody>\n",
       "    <tr>\n",
       "      <td>count</td>\n",
       "      <td>100000.000</td>\n",
       "      <td>100000.000</td>\n",
       "      <td>100000.000</td>\n",
       "      <td>100000.000</td>\n",
       "    </tr>\n",
       "    <tr>\n",
       "      <td>mean</td>\n",
       "      <td>0.002</td>\n",
       "      <td>-0.002</td>\n",
       "      <td>2.495</td>\n",
       "      <td>95.000</td>\n",
       "    </tr>\n",
       "    <tr>\n",
       "      <td>std</td>\n",
       "      <td>1.732</td>\n",
       "      <td>1.730</td>\n",
       "      <td>3.473</td>\n",
       "      <td>44.750</td>\n",
       "    </tr>\n",
       "    <tr>\n",
       "      <td>min</td>\n",
       "      <td>-8.760</td>\n",
       "      <td>-7.084</td>\n",
       "      <td>-11.970</td>\n",
       "      <td>0.000</td>\n",
       "    </tr>\n",
       "    <tr>\n",
       "      <td>25%</td>\n",
       "      <td>-1.162</td>\n",
       "      <td>-1.175</td>\n",
       "      <td>0.130</td>\n",
       "      <td>59.450</td>\n",
       "    </tr>\n",
       "    <tr>\n",
       "      <td>50%</td>\n",
       "      <td>0.009</td>\n",
       "      <td>-0.009</td>\n",
       "      <td>2.484</td>\n",
       "      <td>94.926</td>\n",
       "    </tr>\n",
       "    <tr>\n",
       "      <td>75%</td>\n",
       "      <td>1.159</td>\n",
       "      <td>1.164</td>\n",
       "      <td>4.859</td>\n",
       "      <td>130.595</td>\n",
       "    </tr>\n",
       "    <tr>\n",
       "      <td>max</td>\n",
       "      <td>7.238</td>\n",
       "      <td>7.845</td>\n",
       "      <td>16.739</td>\n",
       "      <td>190.030</td>\n",
       "    </tr>\n",
       "  </tbody>\n",
       "</table>\n",
       "</div>"
      ],
      "text/plain": [
       "              f0         f1         f2    product\n",
       "count 100000.000 100000.000 100000.000 100000.000\n",
       "mean       0.002     -0.002      2.495     95.000\n",
       "std        1.732      1.730      3.473     44.750\n",
       "min       -8.760     -7.084    -11.970      0.000\n",
       "25%       -1.162     -1.175      0.130     59.450\n",
       "50%        0.009     -0.009      2.484     94.926\n",
       "75%        1.159      1.164      4.859    130.595\n",
       "max        7.238      7.845     16.739    190.030"
      ]
     },
     "execution_count": 11,
     "metadata": {},
     "output_type": "execute_result"
    }
   ],
   "source": [
    "data2.describe()"
   ]
  },
  {
   "cell_type": "code",
   "execution_count": 12,
   "id": "operational-transmission",
   "metadata": {},
   "outputs": [
    {
     "name": "stdout",
     "output_type": "stream",
     "text": [
      "            f0     f1     f2  product\n",
      "f0       1.000 -0.441 -0.003    0.144\n",
      "f1      -0.441  1.000  0.002   -0.192\n",
      "f2      -0.003  0.002  1.000    0.484\n",
      "product  0.144 -0.192  0.484    1.000\n"
     ]
    }
   ],
   "source": [
    "print(data0.corr())"
   ]
  },
  {
   "cell_type": "code",
   "execution_count": 13,
   "id": "lovely-shirt",
   "metadata": {},
   "outputs": [
    {
     "name": "stdout",
     "output_type": "stream",
     "text": [
      "            f0     f1     f2  product\n",
      "f0       1.000  0.182 -0.002   -0.030\n",
      "f1       0.182  1.000 -0.003   -0.010\n",
      "f2      -0.002 -0.003  1.000    0.999\n",
      "product -0.030 -0.010  0.999    1.000\n"
     ]
    }
   ],
   "source": [
    "print(data1.corr())"
   ]
  },
  {
   "cell_type": "code",
   "execution_count": 14,
   "id": "medieval-copper",
   "metadata": {},
   "outputs": [
    {
     "name": "stdout",
     "output_type": "stream",
     "text": [
      "            f0     f1     f2  product\n",
      "f0       1.000  0.001 -0.000   -0.002\n",
      "f1       0.001  1.000  0.001   -0.001\n",
      "f2      -0.000  0.001  1.000    0.446\n",
      "product -0.002 -0.001  0.446    1.000\n"
     ]
    }
   ],
   "source": [
    "print(data2.corr())"
   ]
  },
  {
   "cell_type": "markdown",
   "id": "gorgeous-thomson",
   "metadata": {},
   "source": [
    "***Вывод:***\n",
    "Данные готовы к обучению: в данных нет пропусков, некорректных значений, мультиколлинеарность признаков отсутствует."
   ]
  },
  {
   "cell_type": "markdown",
   "id": "surface-textbook",
   "metadata": {},
   "source": [
    "<a id=\"preparing\"></a>\n",
    "## Обучение и проверка модели"
   ]
  },
  {
   "cell_type": "markdown",
   "id": "metallic-mineral",
   "metadata": {},
   "source": [
    "1. Разделим данные по всем регионам на обучающую (train) и валидационную (valid) выборки в соотношении 75% - 25%. И извлечём признаки для обучения: целевой - target, остальные - features.\n",
    "\n",
    "2. Обучим модели линейной регрессии для каждого региона. И сделаем предсказания на валидационных выборках.\n",
    "\n",
    "3. Для каждого регионаа напечатаем средний запас предсказанного сырья, RMSE модели, R2 модели."
   ]
  },
  {
   "cell_type": "markdown",
   "id": "fourth-trial",
   "metadata": {},
   "source": [
    "<a id=\"model0\"></a>\n",
    "### Модель для 1го региона"
   ]
  },
  {
   "cell_type": "code",
   "execution_count": 15,
   "id": "greek-corrections",
   "metadata": {},
   "outputs": [],
   "source": [
    "features0 = data0.drop(['product', 'id'], axis=1)\n",
    "target0 = data0['product']\n",
    "features_train0, features_valid0, target_train0, target_valid0 = train_test_split(\n",
    "    features0, target0, test_size=0.25, random_state=12345)"
   ]
  },
  {
   "cell_type": "code",
   "execution_count": 16,
   "id": "proud-fruit",
   "metadata": {},
   "outputs": [
    {
     "name": "stdout",
     "output_type": "stream",
     "text": [
      "RMSE модели для первого региона: 37.5794217150813\n",
      "R2 для 1го региона = 0.27994321524487786\n",
      "Средний запас предсказанного сырья для 1го региона: 92.59256778438038\n",
      "92.50000000000001\n"
     ]
    }
   ],
   "source": [
    "model0 = LinearRegression()\n",
    "model0.fit(features_train0, target_train0)\n",
    "predicted_valid0 = model0.predict(features_valid0)\n",
    "result0 = mean_squared_error(target_valid0, predicted_valid0) ** 0.5\n",
    "print(\"RMSE модели для первого региона:\", result0)\n",
    "print(\"R2 для 1го региона =\", r2_score(target_valid0, predicted_valid0))\n",
    "mean_predicted_valid_0 = predicted_valid0.mean()\n",
    "print(\"Средний запас предсказанного сырья для 1го региона:\", mean_predicted_valid_0)\n",
    "mean_target0 = data0['product'].mean()\n",
    "print(mean_target0)"
   ]
  },
  {
   "cell_type": "code",
   "execution_count": null,
   "id": "white-prague",
   "metadata": {},
   "outputs": [],
   "source": []
  },
  {
   "cell_type": "markdown",
   "id": "atmospheric-giant",
   "metadata": {},
   "source": [
    "<a id=\"model1\"></a>\n",
    "### Модель для 2го региона"
   ]
  },
  {
   "cell_type": "code",
   "execution_count": 17,
   "id": "engaged-superintendent",
   "metadata": {},
   "outputs": [],
   "source": [
    "features1 = data1.drop(['product', 'id'], axis=1)\n",
    "target1 = data1['product']\n",
    "features_train1, features_valid1, target_train1, target_valid1 = train_test_split(\n",
    "    features1, target1, test_size=0.25, random_state=12345)"
   ]
  },
  {
   "cell_type": "code",
   "execution_count": 18,
   "id": "tropical-cornell",
   "metadata": {},
   "outputs": [
    {
     "name": "stdout",
     "output_type": "stream",
     "text": [
      "RMSE модели для второго региона: 0.8930992867756155\n",
      "R2 для 2го региона = 0.9996233978805127\n",
      "Средний запас предсказанного сырья для 2го региона: 68.72854689544602\n",
      "68.82500000000002\n"
     ]
    }
   ],
   "source": [
    "model1 = LinearRegression()\n",
    "model1.fit(features_train1, target_train1)\n",
    "predicted_valid1 = model1.predict(features_valid1)\n",
    "result1 = mean_squared_error(target_valid1, predicted_valid1) ** 0.5\n",
    "print(\"RMSE модели для второго региона:\", result1)\n",
    "print(\"R2 для 2го региона =\", r2_score(target_valid1, predicted_valid1))\n",
    "mean_predicted_valid_1 = predicted_valid1.mean()\n",
    "print(\"Средний запас предсказанного сырья для 2го региона:\", mean_predicted_valid_1)\n",
    "mean_target1 = data1['product'].mean()\n",
    "print(mean_target1)"
   ]
  },
  {
   "cell_type": "code",
   "execution_count": null,
   "id": "cleared-north",
   "metadata": {},
   "outputs": [],
   "source": []
  },
  {
   "cell_type": "markdown",
   "id": "growing-springfield",
   "metadata": {},
   "source": [
    "<a id=\"model2\"></a>\n",
    "### Модель для 3го региона"
   ]
  },
  {
   "cell_type": "code",
   "execution_count": 19,
   "id": "multiple-triple",
   "metadata": {},
   "outputs": [],
   "source": [
    "features2 = data2.drop(['product', 'id'], axis=1)\n",
    "target2 = data2['product']\n",
    "features_train2, features_valid2, target_train2, target_valid2 = train_test_split(\n",
    "    features2, target2, test_size=0.25, random_state=12345)"
   ]
  },
  {
   "cell_type": "code",
   "execution_count": 20,
   "id": "frozen-developer",
   "metadata": {},
   "outputs": [
    {
     "name": "stdout",
     "output_type": "stream",
     "text": [
      "RMSE модели для третьего региона: 40.02970873393434\n",
      "R2 для 3го региона = 0.20524758386040443\n",
      "Средний запас предсказанного сырья для 3го региона: 94.96504596800489\n",
      "95.00000000000004\n"
     ]
    }
   ],
   "source": [
    "model2= LinearRegression()\n",
    "model2.fit(features_train2, target_train2)\n",
    "predicted_valid2 = model2.predict(features_valid2)\n",
    "result2 = mean_squared_error(target_valid2, predicted_valid2) ** 0.5\n",
    "print(\"RMSE модели для третьего региона:\", result2)\n",
    "print(\"R2 для 3го региона =\", r2_score(target_valid2, predicted_valid2))\n",
    "mean_predicted_valid_2 = predicted_valid2.mean()\n",
    "print(\"Средний запас предсказанного сырья для 3го региона:\", mean_predicted_valid_2)\n",
    "mean_target2 = data2['product'].mean()\n",
    "print(mean_target2)"
   ]
  },
  {
   "cell_type": "markdown",
   "id": "contained-request",
   "metadata": {},
   "source": [
    "***Вывод:***"
   ]
  },
  {
   "cell_type": "code",
   "execution_count": 21,
   "id": "answering-absorption",
   "metadata": {},
   "outputs": [
    {
     "data": {
      "text/html": [
       "<div>\n",
       "<style scoped>\n",
       "    .dataframe tbody tr th:only-of-type {\n",
       "        vertical-align: middle;\n",
       "    }\n",
       "\n",
       "    .dataframe tbody tr th {\n",
       "        vertical-align: top;\n",
       "    }\n",
       "\n",
       "    .dataframe thead th {\n",
       "        text-align: right;\n",
       "    }\n",
       "</style>\n",
       "<table border=\"1\" class=\"dataframe\">\n",
       "  <thead>\n",
       "    <tr style=\"text-align: right;\">\n",
       "      <th></th>\n",
       "      <th>region</th>\n",
       "      <th>average_product</th>\n",
       "      <th>rmse</th>\n",
       "      <th>r2</th>\n",
       "    </tr>\n",
       "  </thead>\n",
       "  <tbody>\n",
       "    <tr>\n",
       "      <td>0</td>\n",
       "      <td>first</td>\n",
       "      <td>92.590</td>\n",
       "      <td>37.580</td>\n",
       "      <td>0.280</td>\n",
       "    </tr>\n",
       "    <tr>\n",
       "      <td>1</td>\n",
       "      <td>second</td>\n",
       "      <td>68.730</td>\n",
       "      <td>0.890</td>\n",
       "      <td>0.990</td>\n",
       "    </tr>\n",
       "    <tr>\n",
       "      <td>2</td>\n",
       "      <td>third</td>\n",
       "      <td>94.970</td>\n",
       "      <td>40.030</td>\n",
       "      <td>0.210</td>\n",
       "    </tr>\n",
       "  </tbody>\n",
       "</table>\n",
       "</div>"
      ],
      "text/plain": [
       "   region  average_product   rmse    r2\n",
       "0   first           92.590 37.580 0.280\n",
       "1  second           68.730  0.890 0.990\n",
       "2   third           94.970 40.030 0.210"
      ]
     },
     "execution_count": 21,
     "metadata": {},
     "output_type": "execute_result"
    }
   ],
   "source": [
    "summary = pd.DataFrame({'region': ['first', 'second', 'third'], 'average_product': [92.59, 68.73, 94.97],  'rmse': [37.58, 0.89, 40.03],  'r2': [0.28, 0.99, 0.21]})\n",
    "summary"
   ]
  },
  {
   "cell_type": "markdown",
   "id": "experimental-substitute",
   "metadata": {},
   "source": [
    "Во втором регионе мы получили мЕньшее значение среднего запаса предсказанного сырья, однако модель для него имеет наивысшее качество - R2 почти 1, т.к. ранее мы выяснили, что признак f2 на 99% указывает на объём запаса в скважине.\n",
    "В первом и третьем регионах качество модели низкое, R2 чуть более 20%, отклонение RMSE почти 40 тыс. баррелей. Однако среднее значение запаса предсказанного сырья выше = 92,5 и 95 тыс. баррелей соответственно."
   ]
  },
  {
   "cell_type": "markdown",
   "id": "biblical-mercy",
   "metadata": {},
   "source": [
    "<a id=\"profit\"></a>\n",
    "## Подготовка к расчёту прибыли"
   ]
  },
  {
   "cell_type": "markdown",
   "id": "described-missouri",
   "metadata": {},
   "source": [
    "Подготовимся к расчёту прибыли: сохраним все ключевые для расчётов значения (бюджет на разработку скважин и доход с единицы продукта) в отдельных переменных (budget и revenue_pro_1000_barrel)"
   ]
  },
  {
   "cell_type": "code",
   "execution_count": 22,
   "id": "animal-roller",
   "metadata": {},
   "outputs": [
    {
     "name": "stdout",
     "output_type": "stream",
     "text": [
      "Бюджет на разработку скважин в регионе, руб.: 10_000_000_000\n",
      "Доход с единицы продукта, руб.: 450_000\n"
     ]
    }
   ],
   "source": [
    "budget = 10000000000\n",
    "print('Бюджет на разработку скважин в регионе, руб.: {:_.0f}'.format(budget))\n",
    "revenue_pro_1000_barrel = 450000\n",
    "print('Доход с единицы продукта, руб.: {:_.0f}'.format(revenue_pro_1000_barrel))\n"
   ]
  },
  {
   "cell_type": "markdown",
   "id": "dramatic-trunk",
   "metadata": {},
   "source": [
    "Рассчитаем достаточный объём сырья для безубыточной разработки новой скважины:"
   ]
  },
  {
   "cell_type": "code",
   "execution_count": 23,
   "id": "ancient-adelaide",
   "metadata": {},
   "outputs": [
    {
     "name": "stdout",
     "output_type": "stream",
     "text": [
      "Достаточный объём сырья для безубыточной разработки новой скважины, тыс. барр: 111.11\n"
     ]
    }
   ],
   "source": [
    "breakeven_barrel = (budget/revenue_pro_1000_barrel)/200\n",
    "print('Достаточный объём сырья для безубыточной разработки новой скважины, тыс. барр: {:_.2f}'.format(breakeven_barrel))"
   ]
  },
  {
   "cell_type": "markdown",
   "id": "moderate-essence",
   "metadata": {},
   "source": [
    "***Вывод:***"
   ]
  },
  {
   "cell_type": "code",
   "execution_count": 24,
   "id": "appropriate-geology",
   "metadata": {},
   "outputs": [
    {
     "data": {
      "text/html": [
       "<div>\n",
       "<style scoped>\n",
       "    .dataframe tbody tr th:only-of-type {\n",
       "        vertical-align: middle;\n",
       "    }\n",
       "\n",
       "    .dataframe tbody tr th {\n",
       "        vertical-align: top;\n",
       "    }\n",
       "\n",
       "    .dataframe thead th {\n",
       "        text-align: right;\n",
       "    }\n",
       "</style>\n",
       "<table border=\"1\" class=\"dataframe\">\n",
       "  <thead>\n",
       "    <tr style=\"text-align: right;\">\n",
       "      <th></th>\n",
       "      <th>region</th>\n",
       "      <th>average_product</th>\n",
       "      <th>rmse</th>\n",
       "      <th>r2</th>\n",
       "    </tr>\n",
       "  </thead>\n",
       "  <tbody>\n",
       "    <tr>\n",
       "      <td>0</td>\n",
       "      <td>first</td>\n",
       "      <td>92.590</td>\n",
       "      <td>37.580</td>\n",
       "      <td>0.280</td>\n",
       "    </tr>\n",
       "    <tr>\n",
       "      <td>1</td>\n",
       "      <td>second</td>\n",
       "      <td>68.730</td>\n",
       "      <td>0.890</td>\n",
       "      <td>0.990</td>\n",
       "    </tr>\n",
       "    <tr>\n",
       "      <td>2</td>\n",
       "      <td>third</td>\n",
       "      <td>94.970</td>\n",
       "      <td>40.030</td>\n",
       "      <td>0.210</td>\n",
       "    </tr>\n",
       "  </tbody>\n",
       "</table>\n",
       "</div>"
      ],
      "text/plain": [
       "   region  average_product   rmse    r2\n",
       "0   first           92.590 37.580 0.280\n",
       "1  second           68.730  0.890 0.990\n",
       "2   third           94.970 40.030 0.210"
      ]
     },
     "execution_count": 24,
     "metadata": {},
     "output_type": "execute_result"
    }
   ],
   "source": [
    "summary"
   ]
  },
  {
   "cell_type": "markdown",
   "id": "miniature-league",
   "metadata": {},
   "source": [
    "Достаточный объём сырья для безубыточной разработки новой скважины (111 тыс. баррелей) выше, чем средний запас предсказанного сырья по всем трём регионам (максимально полученный - 95 тыс. баррелей для третьего региона). Т.е. нет такого региона, где можно не глядя разрабатывать скважины и не получить убытка."
   ]
  },
  {
   "cell_type": "markdown",
   "id": "editorial-interval",
   "metadata": {},
   "source": [
    "<a id=\"risk\"></a>\n",
    "## Расчёт прибыли и рисков "
   ]
  },
  {
   "cell_type": "markdown",
   "id": "fifteen-marriage",
   "metadata": {},
   "source": [
    "Для удобства расчётов создадим новые таблицы с фактическим и предсказанным объёмом запасов в скважинах (для каждого региона)."
   ]
  },
  {
   "cell_type": "code",
   "execution_count": 25,
   "id": "preceding-package",
   "metadata": {},
   "outputs": [
    {
     "data": {
      "text/html": [
       "<div>\n",
       "<style scoped>\n",
       "    .dataframe tbody tr th:only-of-type {\n",
       "        vertical-align: middle;\n",
       "    }\n",
       "\n",
       "    .dataframe tbody tr th {\n",
       "        vertical-align: top;\n",
       "    }\n",
       "\n",
       "    .dataframe thead th {\n",
       "        text-align: right;\n",
       "    }\n",
       "</style>\n",
       "<table border=\"1\" class=\"dataframe\">\n",
       "  <thead>\n",
       "    <tr style=\"text-align: right;\">\n",
       "      <th></th>\n",
       "      <th>product</th>\n",
       "      <th>predict</th>\n",
       "    </tr>\n",
       "  </thead>\n",
       "  <tbody>\n",
       "    <tr>\n",
       "      <td>71751</td>\n",
       "      <td>10.039</td>\n",
       "      <td>95.895</td>\n",
       "    </tr>\n",
       "    <tr>\n",
       "      <td>80493</td>\n",
       "      <td>114.551</td>\n",
       "      <td>77.573</td>\n",
       "    </tr>\n",
       "    <tr>\n",
       "      <td>2655</td>\n",
       "      <td>132.604</td>\n",
       "      <td>77.893</td>\n",
       "    </tr>\n",
       "    <tr>\n",
       "      <td>53233</td>\n",
       "      <td>169.072</td>\n",
       "      <td>90.175</td>\n",
       "    </tr>\n",
       "    <tr>\n",
       "      <td>91141</td>\n",
       "      <td>122.325</td>\n",
       "      <td>70.510</td>\n",
       "    </tr>\n",
       "  </tbody>\n",
       "</table>\n",
       "</div>"
      ],
      "text/plain": [
       "       product  predict\n",
       "71751   10.039   95.895\n",
       "80493  114.551   77.573\n",
       "2655   132.604   77.893\n",
       "53233  169.072   90.175\n",
       "91141  122.325   70.510"
      ]
     },
     "execution_count": 25,
     "metadata": {},
     "output_type": "execute_result"
    }
   ],
   "source": [
    "data0_predict = pd.DataFrame()\n",
    "data0_predict['product'] = target_valid0\n",
    "data0_predict['predict'] = predicted_valid0\n",
    "\n",
    "data0_predict.head()"
   ]
  },
  {
   "cell_type": "code",
   "execution_count": 26,
   "id": "contemporary-theme",
   "metadata": {},
   "outputs": [
    {
     "data": {
      "text/html": [
       "<div>\n",
       "<style scoped>\n",
       "    .dataframe tbody tr th:only-of-type {\n",
       "        vertical-align: middle;\n",
       "    }\n",
       "\n",
       "    .dataframe tbody tr th {\n",
       "        vertical-align: top;\n",
       "    }\n",
       "\n",
       "    .dataframe thead th {\n",
       "        text-align: right;\n",
       "    }\n",
       "</style>\n",
       "<table border=\"1\" class=\"dataframe\">\n",
       "  <thead>\n",
       "    <tr style=\"text-align: right;\">\n",
       "      <th></th>\n",
       "      <th>product</th>\n",
       "      <th>predict</th>\n",
       "    </tr>\n",
       "  </thead>\n",
       "  <tbody>\n",
       "    <tr>\n",
       "      <td>71751</td>\n",
       "      <td>80.860</td>\n",
       "      <td>82.663</td>\n",
       "    </tr>\n",
       "    <tr>\n",
       "      <td>80493</td>\n",
       "      <td>53.907</td>\n",
       "      <td>54.432</td>\n",
       "    </tr>\n",
       "    <tr>\n",
       "      <td>2655</td>\n",
       "      <td>30.132</td>\n",
       "      <td>29.749</td>\n",
       "    </tr>\n",
       "    <tr>\n",
       "      <td>53233</td>\n",
       "      <td>53.907</td>\n",
       "      <td>53.552</td>\n",
       "    </tr>\n",
       "    <tr>\n",
       "      <td>91141</td>\n",
       "      <td>0.000</td>\n",
       "      <td>1.244</td>\n",
       "    </tr>\n",
       "  </tbody>\n",
       "</table>\n",
       "</div>"
      ],
      "text/plain": [
       "       product  predict\n",
       "71751   80.860   82.663\n",
       "80493   53.907   54.432\n",
       "2655    30.132   29.749\n",
       "53233   53.907   53.552\n",
       "91141    0.000    1.244"
      ]
     },
     "execution_count": 26,
     "metadata": {},
     "output_type": "execute_result"
    }
   ],
   "source": [
    "data1_predict = pd.DataFrame()\n",
    "data1_predict['product'] = target_valid1\n",
    "data1_predict['predict'] = predicted_valid1\n",
    "\n",
    "data1_predict.head()"
   ]
  },
  {
   "cell_type": "code",
   "execution_count": 27,
   "id": "hourly-generator",
   "metadata": {},
   "outputs": [
    {
     "data": {
      "text/html": [
       "<div>\n",
       "<style scoped>\n",
       "    .dataframe tbody tr th:only-of-type {\n",
       "        vertical-align: middle;\n",
       "    }\n",
       "\n",
       "    .dataframe tbody tr th {\n",
       "        vertical-align: top;\n",
       "    }\n",
       "\n",
       "    .dataframe thead th {\n",
       "        text-align: right;\n",
       "    }\n",
       "</style>\n",
       "<table border=\"1\" class=\"dataframe\">\n",
       "  <thead>\n",
       "    <tr style=\"text-align: right;\">\n",
       "      <th></th>\n",
       "      <th>product</th>\n",
       "      <th>predict</th>\n",
       "    </tr>\n",
       "  </thead>\n",
       "  <tbody>\n",
       "    <tr>\n",
       "      <td>71751</td>\n",
       "      <td>61.212</td>\n",
       "      <td>93.600</td>\n",
       "    </tr>\n",
       "    <tr>\n",
       "      <td>80493</td>\n",
       "      <td>41.850</td>\n",
       "      <td>75.105</td>\n",
       "    </tr>\n",
       "    <tr>\n",
       "      <td>2655</td>\n",
       "      <td>57.777</td>\n",
       "      <td>90.067</td>\n",
       "    </tr>\n",
       "    <tr>\n",
       "      <td>53233</td>\n",
       "      <td>100.054</td>\n",
       "      <td>105.162</td>\n",
       "    </tr>\n",
       "    <tr>\n",
       "      <td>91141</td>\n",
       "      <td>109.897</td>\n",
       "      <td>115.303</td>\n",
       "    </tr>\n",
       "  </tbody>\n",
       "</table>\n",
       "</div>"
      ],
      "text/plain": [
       "       product  predict\n",
       "71751   61.212   93.600\n",
       "80493   41.850   75.105\n",
       "2655    57.777   90.067\n",
       "53233  100.054  105.162\n",
       "91141  109.897  115.303"
      ]
     },
     "execution_count": 27,
     "metadata": {},
     "output_type": "execute_result"
    }
   ],
   "source": [
    "data2_predict = pd.DataFrame()\n",
    "data2_predict['product'] = target_valid2\n",
    "data2_predict['predict'] = predicted_valid2\n",
    "\n",
    "data2_predict.head()"
   ]
  },
  {
   "cell_type": "markdown",
   "id": "narrative-devil",
   "metadata": {},
   "source": [
    "Напишем функцию для расчёта прибыли по выбранным скважинам и предсказаниям модели, которая будет выбирать 200 скважин с максимальными значениями предсказаний, а затем суммировать целевое значение объёма сырья, соответствующее этим предсказаниям.\n",
    "Затем рассчитаем прибыль для каждого региона."
   ]
  },
  {
   "cell_type": "code",
   "execution_count": 28,
   "id": "political-northeast",
   "metadata": {},
   "outputs": [],
   "source": [
    "def profit_func(product, predict):\n",
    "    predictions_sorted = predict.sort_values(ascending=False)\n",
    "    product_chosen = product[predictions_sorted.index][:200]\n",
    "    profit = product_chosen.sum()*revenue_pro_1000_barrel - budget\n",
    "    return profit"
   ]
  },
  {
   "cell_type": "code",
   "execution_count": 29,
   "id": "central-sapphire",
   "metadata": {},
   "outputs": [
    {
     "name": "stdout",
     "output_type": "stream",
     "text": [
      "Прибыль для первого региона, руб.: 3_320_826_043\n"
     ]
    }
   ],
   "source": [
    "profit0 = profit_func(data0_predict['product'], data0_predict['predict'])\n",
    "print('Прибыль для первого региона, руб.: {:_.0f}'.format(profit0))"
   ]
  },
  {
   "cell_type": "code",
   "execution_count": 30,
   "id": "classified-desire",
   "metadata": {},
   "outputs": [
    {
     "name": "stdout",
     "output_type": "stream",
     "text": [
      "Прибыль для второго региона, руб.: 2_415_086_697\n"
     ]
    }
   ],
   "source": [
    "profit1 = profit_func(data1_predict['product'], data1_predict['predict'])\n",
    "print('Прибыль для второго региона, руб.: {:_.0f}'.format(profit1))"
   ]
  },
  {
   "cell_type": "code",
   "execution_count": 31,
   "id": "emotional-prayer",
   "metadata": {},
   "outputs": [
    {
     "name": "stdout",
     "output_type": "stream",
     "text": [
      "Прибыль для третьего региона, руб.: 2_710_349_964\n"
     ]
    }
   ],
   "source": [
    "profit2 = profit_func(data2_predict['product'], data2_predict['predict'])\n",
    "print('Прибыль для третьего региона, руб.: {:_.0f}'.format(profit2))"
   ]
  },
  {
   "cell_type": "markdown",
   "id": "scientific-conversion",
   "metadata": {},
   "source": [
    "Посчитаем риски и прибыль для каждого региона.\n",
    "Для этого применим технику Bootstrap с 1000 выборок, чтобы найти распределение прибыли. Методом sample исследуются 500 точек, из которых потом в функции прибыли будут выбраны 200 лучших.\n",
    "Найдём среднюю прибыль, 95%-й доверительный интервал и риск убытков. "
   ]
  },
  {
   "cell_type": "code",
   "execution_count": 32,
   "id": "neural-black",
   "metadata": {},
   "outputs": [
    {
     "name": "stdout",
     "output_type": "stream",
     "text": [
      "Средняя прибыль для первого региона, руб.: 425_938_527\n",
      "95%-ый доверительный интервал от: -102_090_095\n",
      "до: 947_976_353\n",
      "Вероятность убытков для 1го региона, %: 6.0\n"
     ]
    }
   ],
   "source": [
    "state = np.random.RandomState(12345)\n",
    "values0 = []\n",
    "for i in range(1000):\n",
    "    data0_predict_subsample = data0_predict.sample(500, replace=True, random_state=state)\n",
    "    values0.append(profit_func(data0_predict_subsample['product'], data0_predict_subsample['predict']))\n",
    "\n",
    "values0 = pd.Series(values0)\n",
    "    \n",
    "lower0 = values0.quantile(0.025)\n",
    "upper0 = values0.quantile(0.975)\n",
    "mean0 = values0.mean()\n",
    "risk0 = st.percentileofscore(values0, 0)\n",
    "print('Средняя прибыль для первого региона, руб.: {:_.0f}'.format(mean0))\n",
    "print('95%-ый доверительный интервал от: {:_.0f}'.format(lower0))\n",
    "print('до: {:_.0f}'.format(upper0))\n",
    "print(\"Вероятность убытков для 1го региона, %:\", risk0)"
   ]
  },
  {
   "cell_type": "code",
   "execution_count": 33,
   "id": "educational-chambers",
   "metadata": {},
   "outputs": [
    {
     "name": "stdout",
     "output_type": "stream",
     "text": [
      "Средняя прибыль для второго региона, руб.: 515_222_773\n",
      "95%-ый доверительный интервал от: 68_873_225\n",
      "до: 931_547_591\n",
      "Вероятность убытков для 2го региона, %: 1.0\n"
     ]
    }
   ],
   "source": [
    "state = np.random.RandomState(12345)\n",
    "values1 = []\n",
    "for i in range(1000):\n",
    "    data1_predict_subsample = data1_predict.sample(500, replace=True, random_state=state)\n",
    "    values1.append(profit_func(data1_predict_subsample['product'], data1_predict_subsample['predict']))\n",
    "\n",
    "values1 = pd.Series(values1)\n",
    "    \n",
    "lower1 = values1.quantile(0.025)\n",
    "upper1 = values1.quantile(0.975)\n",
    "mean1 = values1.mean()\n",
    "risk1 = st.percentileofscore(values1, 0)\n",
    "\n",
    "print('Средняя прибыль для второго региона, руб.: {:_.0f}'.format(mean1))\n",
    "print('95%-ый доверительный интервал от: {:_.0f}'.format(lower1))\n",
    "print('до: {:_.0f}'.format(upper1))\n",
    "print(\"Вероятность убытков для 2го региона, %:\", risk1)"
   ]
  },
  {
   "cell_type": "code",
   "execution_count": 34,
   "id": "eight-department",
   "metadata": {},
   "outputs": [
    {
     "name": "stdout",
     "output_type": "stream",
     "text": [
      "Средняя прибыль для третьего региона, руб.: 435_008_363\n",
      "95%-ый доверительный интервал от: -128_880_547\n",
      "до: 969_706_954\n",
      "Вероятность убытков для 3го региона, %: 6.4\n"
     ]
    }
   ],
   "source": [
    "state = np.random.RandomState(12345)\n",
    "values2 = []\n",
    "for i in range(1000):\n",
    "    data2_predict_subsample = data2_predict.sample(500, replace=True, random_state=state)\n",
    "    values2.append(profit_func(data2_predict_subsample['product'], data2_predict_subsample['predict']))\n",
    "\n",
    "values2 = pd.Series(values2)\n",
    "    \n",
    "lower2 = values2.quantile(0.025)\n",
    "upper2 = values2.quantile(0.975)\n",
    "mean2 = values2.mean()\n",
    "risk2 = st.percentileofscore(values2, 0)\n",
    "print('Средняя прибыль для третьего региона, руб.: {:_.0f}'.format(mean2))\n",
    "print('95%-ый доверительный интервал от: {:_.0f}'.format(lower2))\n",
    "print('до: {:_.0f}'.format(upper2))\n",
    "print(\"Вероятность убытков для 3го региона, %:\", risk2)"
   ]
  },
  {
   "cell_type": "markdown",
   "id": "molecular-sandwich",
   "metadata": {},
   "source": [
    "***Вывод:***"
   ]
  },
  {
   "cell_type": "markdown",
   "id": "premier-rover",
   "metadata": {},
   "source": [
    "По условиям задачи мы отбрасываем регионы с вероятностью убытков более 2,5% (в нашем случае - первый и третий). Таким образом для разработки скважин предлагаем второй регион. Для него же обеспечивается наибольшая средняя прибыль - более 500 млн руб."
   ]
  },
  {
   "cell_type": "markdown",
   "id": "meaningful-custom",
   "metadata": {},
   "source": [
    "<a id=\"finalizing\"></a>\n",
    "## Общий вывод\n",
    "В ходе работы были проанализированы данные геологоразведки по трём регионам, построены модели для предсказания объёма запасов в новых скважинах, выбраны скважины с самыми высокими оценками значений и предложен регион с максимальной суммарной прибылью отобранных скважин.\n",
    "\n",
    "- Во втором регионе мы получили мЕньшее значение среднего запаса предсказанного сырья, однако модель для него имеет наивысшее качество - R2 почти 1, т.к. ранее мы выяснили, что признак f2 на 99% указывает на объём запаса в скважине. В первом и третьем регионах качество модели низкое, R2 чуть более 20%, отклонение RMSE почти 40 тыс. баррелей. Однако среднее значение запаса предсказанного сырья выше = 92,5 и 95 тыс. баррелей соответственно.\n",
    "\n",
    "- Достаточный объём сырья для безубыточной разработки новой скважины (111 тыс. баррелей) выше, чем средний запас предсказанного сырья по всем трём регионам (максимально полученный - 95 тыс. баррелей для третьего региона). Т.е. нет такого региона, где можно не глядя разрабатывать скважины и не получить убытка.\n",
    "\n",
    "- По условиям задачи были отброшены регионы с вероятностью убытков более 2,5% (в нашем случае - первый и третий). Таким образом для разработки скважин был предложен второй регион. Для него же обеспечивается наибольшая средняя прибыль - более 500 млн руб."
   ]
  },
  {
   "cell_type": "code",
   "execution_count": null,
   "id": "varying-banks",
   "metadata": {},
   "outputs": [],
   "source": []
  }
 ],
 "metadata": {
  "kernelspec": {
   "display_name": "Python 3",
   "language": "python",
   "name": "python3"
  },
  "language_info": {
   "codemirror_mode": {
    "name": "ipython",
    "version": 3
   },
   "file_extension": ".py",
   "mimetype": "text/x-python",
   "name": "python",
   "nbconvert_exporter": "python",
   "pygments_lexer": "ipython3",
   "version": "3.7.10"
  }
 },
 "nbformat": 4,
 "nbformat_minor": 5
}
