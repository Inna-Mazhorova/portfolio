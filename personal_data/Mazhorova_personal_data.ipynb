{
 "cells": [
  {
   "cell_type": "markdown",
   "metadata": {
    "toc": true
   },
   "source": [
    "<h1>Содержание<span class=\"tocSkip\"></span></h1>\n",
    "<div class=\"toc\"><ul class=\"toc-item\"><li><span><a href=\"#Загрузка-данных\" data-toc-modified-id=\"Загрузка-данных-1\"><span class=\"toc-item-num\">1&nbsp;&nbsp;</span>Загрузка данных</a></span></li><li><span><a href=\"#Умножение-матриц\" data-toc-modified-id=\"Умножение-матриц-2\"><span class=\"toc-item-num\">2&nbsp;&nbsp;</span>Умножение матриц</a></span></li><li><span><a href=\"#Алгоритм-преобразования\" data-toc-modified-id=\"Алгоритм-преобразования-3\"><span class=\"toc-item-num\">3&nbsp;&nbsp;</span>Алгоритм преобразования</a></span></li><li><span><a href=\"#Проверка-алгоритма\" data-toc-modified-id=\"Проверка-алгоритма-4\"><span class=\"toc-item-num\">4&nbsp;&nbsp;</span>Проверка алгоритма</a></span></li><li><span><a href=\"#Общий-вывод\" data-toc-modified-id=\"Общий-вывод-5\"><span class=\"toc-item-num\">5&nbsp;&nbsp;</span>Общий вывод</a></span></li><li><span><a href=\"#Чек-лист-проверки\" data-toc-modified-id=\"Чек-лист-проверки-6\"><span class=\"toc-item-num\">6&nbsp;&nbsp;</span>Чек-лист проверки</a></span></li></ul></div>"
   ]
  },
  {
   "cell_type": "markdown",
   "metadata": {},
   "source": [
    "# Защита персональных данных клиентов"
   ]
  },
  {
   "cell_type": "markdown",
   "metadata": {},
   "source": [
    "Цель работы -  защитить данные клиентов страховой компании. Необходимо разработать такой метод преобразования данных, чтобы по ним было сложно восстановить персональную информацию и обосновать корректность его работы.\n",
    "Нужно защитить данные, чтобы при преобразовании качество моделей машинного обучения не ухудшилось."
   ]
  },
  {
   "cell_type": "markdown",
   "metadata": {},
   "source": [
    "## Загрузка данных"
   ]
  },
  {
   "cell_type": "code",
   "execution_count": 1,
   "metadata": {},
   "outputs": [],
   "source": [
    "import numpy as np\n",
    "import pandas as pd\n",
    "from sklearn.model_selection import train_test_split\n",
    "from sklearn.linear_model import LinearRegression\n",
    "from sklearn.metrics import r2_score\n",
    "from scipy import stats as st\n",
    "pd.options.display.max_columns = None\n",
    "pd.set_option('display.float_format', lambda x: '%.3f' % x)\n",
    "np.set_printoptions(precision=3,suppress=True)"
   ]
  },
  {
   "cell_type": "code",
   "execution_count": 2,
   "metadata": {},
   "outputs": [],
   "source": [
    "try:\n",
    "    data = pd.read_csv('/datasets/insurance.csv')\n",
    "\n",
    "except:\n",
    "    data = pd.read_csv(\"C:/Users/Lantana/Documents/data_science/10_algebra/insurance.csv\")"
   ]
  },
  {
   "cell_type": "code",
   "execution_count": 3,
   "metadata": {},
   "outputs": [
    {
     "data": {
      "text/html": [
       "<div>\n",
       "<style scoped>\n",
       "    .dataframe tbody tr th:only-of-type {\n",
       "        vertical-align: middle;\n",
       "    }\n",
       "\n",
       "    .dataframe tbody tr th {\n",
       "        vertical-align: top;\n",
       "    }\n",
       "\n",
       "    .dataframe thead th {\n",
       "        text-align: right;\n",
       "    }\n",
       "</style>\n",
       "<table border=\"1\" class=\"dataframe\">\n",
       "  <thead>\n",
       "    <tr style=\"text-align: right;\">\n",
       "      <th></th>\n",
       "      <th>Пол</th>\n",
       "      <th>Возраст</th>\n",
       "      <th>Зарплата</th>\n",
       "      <th>Члены семьи</th>\n",
       "      <th>Страховые выплаты</th>\n",
       "    </tr>\n",
       "  </thead>\n",
       "  <tbody>\n",
       "    <tr>\n",
       "      <td>0</td>\n",
       "      <td>1</td>\n",
       "      <td>41.000</td>\n",
       "      <td>49600.000</td>\n",
       "      <td>1</td>\n",
       "      <td>0</td>\n",
       "    </tr>\n",
       "    <tr>\n",
       "      <td>1</td>\n",
       "      <td>0</td>\n",
       "      <td>46.000</td>\n",
       "      <td>38000.000</td>\n",
       "      <td>1</td>\n",
       "      <td>1</td>\n",
       "    </tr>\n",
       "    <tr>\n",
       "      <td>2</td>\n",
       "      <td>0</td>\n",
       "      <td>29.000</td>\n",
       "      <td>21000.000</td>\n",
       "      <td>0</td>\n",
       "      <td>0</td>\n",
       "    </tr>\n",
       "    <tr>\n",
       "      <td>3</td>\n",
       "      <td>0</td>\n",
       "      <td>21.000</td>\n",
       "      <td>41700.000</td>\n",
       "      <td>2</td>\n",
       "      <td>0</td>\n",
       "    </tr>\n",
       "    <tr>\n",
       "      <td>4</td>\n",
       "      <td>1</td>\n",
       "      <td>28.000</td>\n",
       "      <td>26100.000</td>\n",
       "      <td>0</td>\n",
       "      <td>0</td>\n",
       "    </tr>\n",
       "  </tbody>\n",
       "</table>\n",
       "</div>"
      ],
      "text/plain": [
       "   Пол  Возраст  Зарплата  Члены семьи  Страховые выплаты\n",
       "0    1   41.000 49600.000            1                  0\n",
       "1    0   46.000 38000.000            1                  1\n",
       "2    0   29.000 21000.000            0                  0\n",
       "3    0   21.000 41700.000            2                  0\n",
       "4    1   28.000 26100.000            0                  0"
      ]
     },
     "execution_count": 3,
     "metadata": {},
     "output_type": "execute_result"
    }
   ],
   "source": [
    "data.head()"
   ]
  },
  {
   "cell_type": "code",
   "execution_count": 4,
   "metadata": {},
   "outputs": [
    {
     "name": "stdout",
     "output_type": "stream",
     "text": [
      "<class 'pandas.core.frame.DataFrame'>\n",
      "RangeIndex: 5000 entries, 0 to 4999\n",
      "Data columns (total 5 columns):\n",
      "Пол                  5000 non-null int64\n",
      "Возраст              5000 non-null float64\n",
      "Зарплата             5000 non-null float64\n",
      "Члены семьи          5000 non-null int64\n",
      "Страховые выплаты    5000 non-null int64\n",
      "dtypes: float64(2), int64(3)\n",
      "memory usage: 195.4 KB\n"
     ]
    }
   ],
   "source": [
    "data.info()"
   ]
  },
  {
   "cell_type": "code",
   "execution_count": 5,
   "metadata": {},
   "outputs": [
    {
     "data": {
      "text/html": [
       "<div>\n",
       "<style scoped>\n",
       "    .dataframe tbody tr th:only-of-type {\n",
       "        vertical-align: middle;\n",
       "    }\n",
       "\n",
       "    .dataframe tbody tr th {\n",
       "        vertical-align: top;\n",
       "    }\n",
       "\n",
       "    .dataframe thead th {\n",
       "        text-align: right;\n",
       "    }\n",
       "</style>\n",
       "<table border=\"1\" class=\"dataframe\">\n",
       "  <thead>\n",
       "    <tr style=\"text-align: right;\">\n",
       "      <th></th>\n",
       "      <th>Пол</th>\n",
       "      <th>Возраст</th>\n",
       "      <th>Зарплата</th>\n",
       "      <th>Члены семьи</th>\n",
       "      <th>Страховые выплаты</th>\n",
       "    </tr>\n",
       "  </thead>\n",
       "  <tbody>\n",
       "    <tr>\n",
       "      <td>count</td>\n",
       "      <td>5000.000</td>\n",
       "      <td>5000.000</td>\n",
       "      <td>5000.000</td>\n",
       "      <td>5000.000</td>\n",
       "      <td>5000.000</td>\n",
       "    </tr>\n",
       "    <tr>\n",
       "      <td>mean</td>\n",
       "      <td>0.499</td>\n",
       "      <td>30.953</td>\n",
       "      <td>39916.360</td>\n",
       "      <td>1.194</td>\n",
       "      <td>0.148</td>\n",
       "    </tr>\n",
       "    <tr>\n",
       "      <td>std</td>\n",
       "      <td>0.500</td>\n",
       "      <td>8.441</td>\n",
       "      <td>9900.084</td>\n",
       "      <td>1.091</td>\n",
       "      <td>0.463</td>\n",
       "    </tr>\n",
       "    <tr>\n",
       "      <td>min</td>\n",
       "      <td>0.000</td>\n",
       "      <td>18.000</td>\n",
       "      <td>5300.000</td>\n",
       "      <td>0.000</td>\n",
       "      <td>0.000</td>\n",
       "    </tr>\n",
       "    <tr>\n",
       "      <td>25%</td>\n",
       "      <td>0.000</td>\n",
       "      <td>24.000</td>\n",
       "      <td>33300.000</td>\n",
       "      <td>0.000</td>\n",
       "      <td>0.000</td>\n",
       "    </tr>\n",
       "    <tr>\n",
       "      <td>50%</td>\n",
       "      <td>0.000</td>\n",
       "      <td>30.000</td>\n",
       "      <td>40200.000</td>\n",
       "      <td>1.000</td>\n",
       "      <td>0.000</td>\n",
       "    </tr>\n",
       "    <tr>\n",
       "      <td>75%</td>\n",
       "      <td>1.000</td>\n",
       "      <td>37.000</td>\n",
       "      <td>46600.000</td>\n",
       "      <td>2.000</td>\n",
       "      <td>0.000</td>\n",
       "    </tr>\n",
       "    <tr>\n",
       "      <td>max</td>\n",
       "      <td>1.000</td>\n",
       "      <td>65.000</td>\n",
       "      <td>79000.000</td>\n",
       "      <td>6.000</td>\n",
       "      <td>5.000</td>\n",
       "    </tr>\n",
       "  </tbody>\n",
       "</table>\n",
       "</div>"
      ],
      "text/plain": [
       "           Пол  Возраст  Зарплата  Члены семьи  Страховые выплаты\n",
       "count 5000.000 5000.000  5000.000     5000.000           5000.000\n",
       "mean     0.499   30.953 39916.360        1.194              0.148\n",
       "std      0.500    8.441  9900.084        1.091              0.463\n",
       "min      0.000   18.000  5300.000        0.000              0.000\n",
       "25%      0.000   24.000 33300.000        0.000              0.000\n",
       "50%      0.000   30.000 40200.000        1.000              0.000\n",
       "75%      1.000   37.000 46600.000        2.000              0.000\n",
       "max      1.000   65.000 79000.000        6.000              5.000"
      ]
     },
     "execution_count": 5,
     "metadata": {},
     "output_type": "execute_result"
    }
   ],
   "source": [
    "data.describe()"
   ]
  },
  {
   "cell_type": "markdown",
   "metadata": {},
   "source": [
    "## Умножение матриц"
   ]
  },
  {
   "cell_type": "markdown",
   "metadata": {},
   "source": [
    "Докажем, что при умножении признаков на обратимую матрицу качество линейной регрессии не изменится."
   ]
  },
  {
   "cell_type": "markdown",
   "metadata": {},
   "source": [
    "Обозначения:\n",
    "\n",
    "- $X$ — матрица признаков (нулевой столбец состоит из единиц)\n",
    "\n",
    "- $y$ — вектор целевого признака\n",
    "\n",
    "- $P$ — матрица, на которую умножаются признаки\n",
    "\n",
    "- $w$ — вектор весов линейной регрессии (нулевой элемент равен сдвигу)"
   ]
  },
  {
   "cell_type": "markdown",
   "metadata": {},
   "source": [
    "Предсказания:\n",
    "\n",
    "$$\n",
    "a = Xw\n",
    "$$\n",
    "\n",
    "Задача обучения:\n",
    "\n",
    "$$\n",
    "w = \\arg\\min_w MSE(Xw, y)\n",
    "$$\n",
    "\n",
    "Формула обучения:\n",
    "\n",
    "$$\n",
    "w = (X^T X)^{-1} X^T y\n",
    "$$"
   ]
  },
  {
   "cell_type": "markdown",
   "metadata": {},
   "source": [
    "**Ответ:** \n",
    "\n",
    "При умножении признаков на обратимую матрицу качество линейной регрессии не изменится.\n",
    "\n",
    "**Обоснование:**"
   ]
  },
  {
   "cell_type": "markdown",
   "metadata": {},
   "source": [
    "Задача: доказать, что $a' = a$ при умножении $X P$, где P - любая обратимая матрица подходящего размера\n",
    "\n",
    "Решение:\n",
    "\n",
    "Подставим новую матрицу $X P$ в формулу $w$:\n",
    "\n",
    "$$\n",
    "w' = ((X P)^T (X P))^{-1} (X P) ^T y\n",
    "$$\n",
    "\n",
    "Используя свойство матриц: $(X P)^T = P^T X^T$, раскроем скобки:\n",
    "\n",
    "$$\n",
    "w' = (P^T X^T X P)^{-1} P^T X^T y\n",
    "$$\n",
    "\n",
    "$$\n",
    "w' = (P^T)^{-1} (X^T X)^{-1} P^{-1} P^T X^T y\n",
    "$$\n",
    "\n",
    "Используя свойство обратных матриц $(P^T)^{-1} P^T = E$ , сократим выражение:\n",
    "\n",
    "$$\n",
    "w' = E (X^T X)^{-1} P^{-1} X^T y\n",
    "$$\n",
    "\n",
    "Т.к. любую матрицу можно умножить на единичную и получить эту же матрицу. И т.к. $w = (X^T X)^{-1} X^T y$:\n",
    "\n",
    "$$\n",
    "w' = P^{-1} w\n",
    "$$\n",
    "\n",
    "Подставим полученные значения $w$ в формулу $a = Xw$, получим:\n",
    "\n",
    "$$\n",
    "a' = X P P^{-1} w\n",
    "$$\n",
    "\n",
    "Опять используем свойства обратных матриц и единичных матриц, произведём сокращения:\n",
    "\n",
    "$$\n",
    "a' = X E w\n",
    "$$\n",
    "\n",
    "$$\n",
    "a' = X w\n",
    "$$\n",
    "\n",
    "А значит:\n",
    "\n",
    "$$\n",
    "a' = a\n",
    "$$\n",
    "\n",
    "Что и требовалось доказать."
   ]
  },
  {
   "cell_type": "markdown",
   "metadata": {},
   "source": [
    "***Вывод***\n",
    "\n",
    "При умножении признаков на обратимую матрицу качество линейной регрессии не изменится. При этом параметры линейной регрессии в исходной задаче и в преобразованной будут связаны следующим образом: $w' = P^{-1} w$"
   ]
  },
  {
   "cell_type": "markdown",
   "metadata": {},
   "source": [
    "## Алгоритм преобразования"
   ]
  },
  {
   "cell_type": "markdown",
   "metadata": {},
   "source": [
    "**Алгоритм**\n",
    "\n",
    "1. Извлечём признаки для обучения: целевой - target, остальные - features."
   ]
  },
  {
   "cell_type": "code",
   "execution_count": 6,
   "metadata": {},
   "outputs": [],
   "source": [
    "features = data.drop(['Страховые выплаты'], axis=1)\n",
    "target = data['Страховые выплаты']"
   ]
  },
  {
   "cell_type": "code",
   "execution_count": 7,
   "metadata": {},
   "outputs": [
    {
     "data": {
      "text/html": [
       "<div>\n",
       "<style scoped>\n",
       "    .dataframe tbody tr th:only-of-type {\n",
       "        vertical-align: middle;\n",
       "    }\n",
       "\n",
       "    .dataframe tbody tr th {\n",
       "        vertical-align: top;\n",
       "    }\n",
       "\n",
       "    .dataframe thead th {\n",
       "        text-align: right;\n",
       "    }\n",
       "</style>\n",
       "<table border=\"1\" class=\"dataframe\">\n",
       "  <thead>\n",
       "    <tr style=\"text-align: right;\">\n",
       "      <th></th>\n",
       "      <th>Пол</th>\n",
       "      <th>Возраст</th>\n",
       "      <th>Зарплата</th>\n",
       "      <th>Члены семьи</th>\n",
       "    </tr>\n",
       "  </thead>\n",
       "  <tbody>\n",
       "    <tr>\n",
       "      <td>0</td>\n",
       "      <td>1</td>\n",
       "      <td>41.000</td>\n",
       "      <td>49600.000</td>\n",
       "      <td>1</td>\n",
       "    </tr>\n",
       "    <tr>\n",
       "      <td>1</td>\n",
       "      <td>0</td>\n",
       "      <td>46.000</td>\n",
       "      <td>38000.000</td>\n",
       "      <td>1</td>\n",
       "    </tr>\n",
       "    <tr>\n",
       "      <td>2</td>\n",
       "      <td>0</td>\n",
       "      <td>29.000</td>\n",
       "      <td>21000.000</td>\n",
       "      <td>0</td>\n",
       "    </tr>\n",
       "    <tr>\n",
       "      <td>3</td>\n",
       "      <td>0</td>\n",
       "      <td>21.000</td>\n",
       "      <td>41700.000</td>\n",
       "      <td>2</td>\n",
       "    </tr>\n",
       "    <tr>\n",
       "      <td>4</td>\n",
       "      <td>1</td>\n",
       "      <td>28.000</td>\n",
       "      <td>26100.000</td>\n",
       "      <td>0</td>\n",
       "    </tr>\n",
       "    <tr>\n",
       "      <td>...</td>\n",
       "      <td>...</td>\n",
       "      <td>...</td>\n",
       "      <td>...</td>\n",
       "      <td>...</td>\n",
       "    </tr>\n",
       "    <tr>\n",
       "      <td>4995</td>\n",
       "      <td>0</td>\n",
       "      <td>28.000</td>\n",
       "      <td>35700.000</td>\n",
       "      <td>2</td>\n",
       "    </tr>\n",
       "    <tr>\n",
       "      <td>4996</td>\n",
       "      <td>0</td>\n",
       "      <td>34.000</td>\n",
       "      <td>52400.000</td>\n",
       "      <td>1</td>\n",
       "    </tr>\n",
       "    <tr>\n",
       "      <td>4997</td>\n",
       "      <td>0</td>\n",
       "      <td>20.000</td>\n",
       "      <td>33900.000</td>\n",
       "      <td>2</td>\n",
       "    </tr>\n",
       "    <tr>\n",
       "      <td>4998</td>\n",
       "      <td>1</td>\n",
       "      <td>22.000</td>\n",
       "      <td>32700.000</td>\n",
       "      <td>3</td>\n",
       "    </tr>\n",
       "    <tr>\n",
       "      <td>4999</td>\n",
       "      <td>1</td>\n",
       "      <td>28.000</td>\n",
       "      <td>40600.000</td>\n",
       "      <td>1</td>\n",
       "    </tr>\n",
       "  </tbody>\n",
       "</table>\n",
       "<p>5000 rows × 4 columns</p>\n",
       "</div>"
      ],
      "text/plain": [
       "      Пол  Возраст  Зарплата  Члены семьи\n",
       "0       1   41.000 49600.000            1\n",
       "1       0   46.000 38000.000            1\n",
       "2       0   29.000 21000.000            0\n",
       "3       0   21.000 41700.000            2\n",
       "4       1   28.000 26100.000            0\n",
       "...   ...      ...       ...          ...\n",
       "4995    0   28.000 35700.000            2\n",
       "4996    0   34.000 52400.000            1\n",
       "4997    0   20.000 33900.000            2\n",
       "4998    1   22.000 32700.000            3\n",
       "4999    1   28.000 40600.000            1\n",
       "\n",
       "[5000 rows x 4 columns]"
      ]
     },
     "execution_count": 7,
     "metadata": {},
     "output_type": "execute_result"
    }
   ],
   "source": [
    "features"
   ]
  },
  {
   "cell_type": "code",
   "execution_count": 8,
   "metadata": {},
   "outputs": [
    {
     "data": {
      "text/plain": [
       "Index(['Пол', 'Возраст', 'Зарплата', 'Члены семьи'], dtype='object')"
      ]
     },
     "execution_count": 8,
     "metadata": {},
     "output_type": "execute_result"
    }
   ],
   "source": [
    "features.columns"
   ]
  },
  {
   "cell_type": "markdown",
   "metadata": {},
   "source": [
    "2. Создадим матрицу из признаков"
   ]
  },
  {
   "cell_type": "code",
   "execution_count": 9,
   "metadata": {},
   "outputs": [],
   "source": [
    "features_matrix = features.values"
   ]
  },
  {
   "cell_type": "code",
   "execution_count": 10,
   "metadata": {},
   "outputs": [
    {
     "data": {
      "text/plain": [
       "array([[    1.,    41., 49600.,     1.],\n",
       "       [    0.,    46., 38000.,     1.],\n",
       "       [    0.,    29., 21000.,     0.],\n",
       "       ...,\n",
       "       [    0.,    20., 33900.,     2.],\n",
       "       [    1.,    22., 32700.,     3.],\n",
       "       [    1.,    28., 40600.,     1.]])"
      ]
     },
     "execution_count": 10,
     "metadata": {},
     "output_type": "execute_result"
    }
   ],
   "source": [
    "features_matrix"
   ]
  },
  {
   "cell_type": "code",
   "execution_count": 11,
   "metadata": {},
   "outputs": [
    {
     "name": "stdout",
     "output_type": "stream",
     "text": [
      "Размер: (5000, 4)\n"
     ]
    }
   ],
   "source": [
    "print('Размер:', features_matrix.shape)"
   ]
  },
  {
   "cell_type": "code",
   "execution_count": 12,
   "metadata": {},
   "outputs": [
    {
     "data": {
      "text/plain": [
       "5000"
      ]
     },
     "execution_count": 12,
     "metadata": {},
     "output_type": "execute_result"
    }
   ],
   "source": [
    "features_matrix.shape[0]"
   ]
  },
  {
   "cell_type": "code",
   "execution_count": 13,
   "metadata": {},
   "outputs": [
    {
     "data": {
      "text/plain": [
       "4"
      ]
     },
     "execution_count": 13,
     "metadata": {},
     "output_type": "execute_result"
    }
   ],
   "source": [
    "features_matrix.shape[1]"
   ]
  },
  {
   "cell_type": "markdown",
   "metadata": {},
   "source": [
    "3. Сгенерируем случайную матрицу размерностью (features_matrix.shape[1] x features_matrix.shape[1]), чтобы в преобразованная матрица оказалась той же размерности, что и изначальная."
   ]
  },
  {
   "cell_type": "code",
   "execution_count": 14,
   "metadata": {},
   "outputs": [],
   "source": [
    "P = np.random.normal(loc =1, scale =0.5, size=(features_matrix.shape[1],features_matrix.shape[1]))"
   ]
  },
  {
   "cell_type": "code",
   "execution_count": 15,
   "metadata": {},
   "outputs": [
    {
     "name": "stdout",
     "output_type": "stream",
     "text": [
      "Размер: (4, 4)\n"
     ]
    }
   ],
   "source": [
    "print('Размер:', P.shape)"
   ]
  },
  {
   "cell_type": "code",
   "execution_count": 16,
   "metadata": {},
   "outputs": [
    {
     "data": {
      "text/plain": [
       "array([[1.611, 1.095, 1.432, 0.881],\n",
       "       [0.988, 0.962, 0.82 , 0.363],\n",
       "       [0.713, 0.991, 0.798, 0.454],\n",
       "       [0.714, 0.208, 0.9  , 1.763]])"
      ]
     },
     "execution_count": 16,
     "metadata": {},
     "output_type": "execute_result"
    }
   ],
   "source": [
    "P"
   ]
  },
  {
   "cell_type": "markdown",
   "metadata": {},
   "source": [
    "4. Хотя вероятность получить необратимую матрицу стремится к нулю, проверим, есть ли у матрицы P обратимая."
   ]
  },
  {
   "cell_type": "code",
   "execution_count": 17,
   "metadata": {},
   "outputs": [
    {
     "data": {
      "text/plain": [
       "array([[ -1.156,   5.598,  -4.268,   0.523],\n",
       "       [ -2.188,   2.966,   0.474,   0.36 ],\n",
       "       [  4.701, -10.139,   4.97 ,  -1.539],\n",
       "       [ -1.674,   2.56 ,  -0.865,   1.099]])"
      ]
     },
     "execution_count": 17,
     "metadata": {},
     "output_type": "execute_result"
    }
   ],
   "source": [
    "np.linalg.inv(P)"
   ]
  },
  {
   "cell_type": "markdown",
   "metadata": {},
   "source": [
    "5. Проверка проведена - обратимая матрица к матрице P найдена. Домножим матрицу признаков на матрицу P"
   ]
  },
  {
   "cell_type": "code",
   "execution_count": 18,
   "metadata": {},
   "outputs": [
    {
     "data": {
      "text/plain": [
       "array([[35399.358, 49178.854, 39617.292, 22538.392],\n",
       "       [27133.821, 37690.591, 30363.033, 17272.355],\n",
       "       [14998.148, 20832.339, 16782.008,  9545.575],\n",
       "       ...,\n",
       "       [24186.233, 33603.968, 27070.769, 15403.068],\n",
       "       [23335.133, 32418.37 , 26117.128, 14861.579],\n",
       "       [28971.016, 40250.159, 32424.534, 18447.224]])"
      ]
     },
     "execution_count": 18,
     "metadata": {},
     "output_type": "execute_result"
    }
   ],
   "source": [
    "features_matrix_protected = features_matrix @ P\n",
    "features_matrix_protected"
   ]
  },
  {
   "cell_type": "code",
   "execution_count": 19,
   "metadata": {},
   "outputs": [
    {
     "name": "stdout",
     "output_type": "stream",
     "text": [
      "Размер: (5000, 4)\n"
     ]
    }
   ],
   "source": [
    "print('Размер:', features_matrix_protected.shape)"
   ]
  },
  {
   "cell_type": "markdown",
   "metadata": {},
   "source": [
    "6. Создадим датафрейм преобразованных признаков из полученной изменённой матрицы"
   ]
  },
  {
   "cell_type": "code",
   "execution_count": 20,
   "metadata": {},
   "outputs": [
    {
     "data": {
      "text/html": [
       "<div>\n",
       "<style scoped>\n",
       "    .dataframe tbody tr th:only-of-type {\n",
       "        vertical-align: middle;\n",
       "    }\n",
       "\n",
       "    .dataframe tbody tr th {\n",
       "        vertical-align: top;\n",
       "    }\n",
       "\n",
       "    .dataframe thead th {\n",
       "        text-align: right;\n",
       "    }\n",
       "</style>\n",
       "<table border=\"1\" class=\"dataframe\">\n",
       "  <thead>\n",
       "    <tr style=\"text-align: right;\">\n",
       "      <th></th>\n",
       "      <th>Пол</th>\n",
       "      <th>Возраст</th>\n",
       "      <th>Зарплата</th>\n",
       "      <th>Члены семьи</th>\n",
       "    </tr>\n",
       "  </thead>\n",
       "  <tbody>\n",
       "    <tr>\n",
       "      <td>0</td>\n",
       "      <td>35399.358</td>\n",
       "      <td>49178.854</td>\n",
       "      <td>39617.292</td>\n",
       "      <td>22538.392</td>\n",
       "    </tr>\n",
       "    <tr>\n",
       "      <td>1</td>\n",
       "      <td>27133.821</td>\n",
       "      <td>37690.591</td>\n",
       "      <td>30363.033</td>\n",
       "      <td>17272.355</td>\n",
       "    </tr>\n",
       "    <tr>\n",
       "      <td>2</td>\n",
       "      <td>14998.148</td>\n",
       "      <td>20832.339</td>\n",
       "      <td>16782.008</td>\n",
       "      <td>9545.575</td>\n",
       "    </tr>\n",
       "    <tr>\n",
       "      <td>3</td>\n",
       "      <td>29747.320</td>\n",
       "      <td>41332.294</td>\n",
       "      <td>33296.074</td>\n",
       "      <td>18945.016</td>\n",
       "    </tr>\n",
       "    <tr>\n",
       "      <td>4</td>\n",
       "      <td>18634.220</td>\n",
       "      <td>25884.979</td>\n",
       "      <td>20852.476</td>\n",
       "      <td>11861.744</td>\n",
       "    </tr>\n",
       "    <tr>\n",
       "      <td>...</td>\n",
       "      <td>...</td>\n",
       "      <td>...</td>\n",
       "      <td>...</td>\n",
       "      <td>...</td>\n",
       "    </tr>\n",
       "    <tr>\n",
       "      <td>4995</td>\n",
       "      <td>25477.236</td>\n",
       "      <td>35394.902</td>\n",
       "      <td>28513.749</td>\n",
       "      <td>16223.264</td>\n",
       "    </tr>\n",
       "    <tr>\n",
       "      <td>4996</td>\n",
       "      <td>37386.765</td>\n",
       "      <td>51944.950</td>\n",
       "      <td>41844.551</td>\n",
       "      <td>23806.306</td>\n",
       "    </tr>\n",
       "    <tr>\n",
       "      <td>4997</td>\n",
       "      <td>24186.233</td>\n",
       "      <td>33603.968</td>\n",
       "      <td>27070.769</td>\n",
       "      <td>15403.068</td>\n",
       "    </tr>\n",
       "    <tr>\n",
       "      <td>4998</td>\n",
       "      <td>23335.133</td>\n",
       "      <td>32418.370</td>\n",
       "      <td>26117.128</td>\n",
       "      <td>14861.579</td>\n",
       "    </tr>\n",
       "    <tr>\n",
       "      <td>4999</td>\n",
       "      <td>28971.016</td>\n",
       "      <td>40250.159</td>\n",
       "      <td>32424.534</td>\n",
       "      <td>18447.224</td>\n",
       "    </tr>\n",
       "  </tbody>\n",
       "</table>\n",
       "<p>5000 rows × 4 columns</p>\n",
       "</div>"
      ],
      "text/plain": [
       "           Пол   Возраст  Зарплата  Члены семьи\n",
       "0    35399.358 49178.854 39617.292    22538.392\n",
       "1    27133.821 37690.591 30363.033    17272.355\n",
       "2    14998.148 20832.339 16782.008     9545.575\n",
       "3    29747.320 41332.294 33296.074    18945.016\n",
       "4    18634.220 25884.979 20852.476    11861.744\n",
       "...        ...       ...       ...          ...\n",
       "4995 25477.236 35394.902 28513.749    16223.264\n",
       "4996 37386.765 51944.950 41844.551    23806.306\n",
       "4997 24186.233 33603.968 27070.769    15403.068\n",
       "4998 23335.133 32418.370 26117.128    14861.579\n",
       "4999 28971.016 40250.159 32424.534    18447.224\n",
       "\n",
       "[5000 rows x 4 columns]"
      ]
     },
     "execution_count": 20,
     "metadata": {},
     "output_type": "execute_result"
    }
   ],
   "source": [
    "features_protected = pd.DataFrame(features_matrix_protected,  columns=['Пол', 'Возраст', 'Зарплата', 'Члены семьи'])\n",
    "features_protected"
   ]
  },
  {
   "cell_type": "markdown",
   "metadata": {},
   "source": [
    "**Обоснование**\n",
    "\n",
    "Обоснование данного алгоритма преобразования приведено в разделе 2."
   ]
  },
  {
   "cell_type": "markdown",
   "metadata": {},
   "source": [
    "## Проверка алгоритма"
   ]
  },
  {
   "cell_type": "markdown",
   "metadata": {},
   "source": [
    "Проверим, отличается ли качество линейной регрессии до и после преобразования."
   ]
  },
  {
   "cell_type": "markdown",
   "metadata": {},
   "source": [
    "1. Разделим данные изначального датафрейма на обучающую (train) и валидационную (valid) выборки в соотношении 75% - 25%. Обучим модель линейной регрессии, сохраним предсказания на валидационной выборке. Рассчитаем R2 полученной модели."
   ]
  },
  {
   "cell_type": "code",
   "execution_count": 21,
   "metadata": {},
   "outputs": [],
   "source": [
    "\n",
    "features_train, features_valid, target_train, target_valid = train_test_split(\n",
    "    features, target, test_size=0.25, random_state=12345)"
   ]
  },
  {
   "cell_type": "code",
   "execution_count": 22,
   "metadata": {},
   "outputs": [
    {
     "name": "stdout",
     "output_type": "stream",
     "text": [
      "R2 до преобразования 0.435227571270266\n"
     ]
    }
   ],
   "source": [
    "model = LinearRegression()\n",
    "model.fit(features_train, target_train)\n",
    "predicted_valid = model.predict(features_valid)\n",
    "r2 = r2_score(target_valid, predicted_valid)\n",
    "print(\"R2 до преобразования\", r2)"
   ]
  },
  {
   "cell_type": "markdown",
   "metadata": {},
   "source": [
    "2. Разделим данные преобразованного датафрейма на обучающую (train) и валидационную (valid) выборки в соотношении 75% - 25%. Обучим модель линейной регрессии, сохраним предсказания на валидационной выборке. Рассчитаем R2 полученной модели."
   ]
  },
  {
   "cell_type": "code",
   "execution_count": 23,
   "metadata": {},
   "outputs": [],
   "source": [
    "features_train_protected, features_valid_protected, target_train_protected, target_valid_protected = train_test_split(\n",
    "    features_protected, target, test_size=0.25, random_state=12345)"
   ]
  },
  {
   "cell_type": "code",
   "execution_count": 24,
   "metadata": {},
   "outputs": [
    {
     "name": "stdout",
     "output_type": "stream",
     "text": [
      "R2 после преобразования 0.43522757126883527\n"
     ]
    }
   ],
   "source": [
    "model_protected = LinearRegression()\n",
    "model_protected.fit(features_train_protected, target_train_protected)\n",
    "predicted_valid_protected = model_protected.predict(features_valid_protected)\n",
    "r2_protected = r2_score(target_valid_protected, predicted_valid_protected)\n",
    "print(\"R2 после преобразования\", r2_protected)"
   ]
  },
  {
   "cell_type": "markdown",
   "metadata": {},
   "source": [
    "3. Рассчитаем разницу метрик R2 моделей после преобразования и до"
   ]
  },
  {
   "cell_type": "code",
   "execution_count": 25,
   "metadata": {},
   "outputs": [
    {
     "name": "stdout",
     "output_type": "stream",
     "text": [
      "Разница r2 до и после преобразования: -0.0000000000\n"
     ]
    }
   ],
   "source": [
    "difference = r2_protected/r2 - 1\n",
    "print('Разница r2 до и после преобразования: {:_.10f}'.format(difference))"
   ]
  },
  {
   "cell_type": "markdown",
   "metadata": {},
   "source": [
    "***Вывод***\n",
    "\n",
    "Качество линейной регрессии до и после преобразования не отличается, что и требовалось доказать."
   ]
  },
  {
   "cell_type": "markdown",
   "metadata": {},
   "source": [
    "## Общий вывод"
   ]
  },
  {
   "cell_type": "markdown",
   "metadata": {},
   "source": [
    "1. Мы доказали, что при умножении признаков на обратимую матрицу качество линейной регрессии не изменится. При этом параметры линейной регрессии в исходной задаче и в преобразованной будут связаны следующим образом: $w' = P^{-1} w$\n",
    "\n",
    "2. В связи с этим был предложен алгоритм защиты персональных данных клиентов, при котором качество линейной регресси не будет отличаться.\n",
    "\n",
    "3. Кратко предложенный алгоритм заключается в генерации случайной обратимой матрицы необходимой размерности и умножении её на исходный датафрейм.\n",
    "\n",
    "4. Путём сравнения метрик R2 до и после преобразований была проведена проверка того, что качество линейной регрессии после преобразований не изменится.\n",
    "\n",
    "5. Таким образом, данный алгоритм можно внедрять в практику. Что позволит компании \"Хоть потоп\" корректно предсказывать количество страховых выплат, избегая утечки персональных данных клиентов."
   ]
  }
 ],
 "metadata": {
  "kernelspec": {
   "display_name": "Python 3",
   "language": "python",
   "name": "python3"
  },
  "language_info": {
   "codemirror_mode": {
    "name": "ipython",
    "version": 3
   },
   "file_extension": ".py",
   "mimetype": "text/x-python",
   "name": "python",
   "nbconvert_exporter": "python",
   "pygments_lexer": "ipython3",
   "version": "3.7.10"
  },
  "toc": {
   "base_numbering": 1,
   "nav_menu": {},
   "number_sections": true,
   "sideBar": true,
   "skip_h1_title": true,
   "title_cell": "Содержание",
   "title_sidebar": "Contents",
   "toc_cell": true,
   "toc_position": {},
   "toc_section_display": true,
   "toc_window_display": false
  }
 },
 "nbformat": 4,
 "nbformat_minor": 2
}
